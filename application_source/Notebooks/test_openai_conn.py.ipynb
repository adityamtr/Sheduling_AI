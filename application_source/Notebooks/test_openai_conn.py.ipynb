{
 "cells": [
  {
   "cell_type": "code",
   "id": "initial_id",
   "metadata": {
    "collapsed": true,
    "ExecuteTime": {
     "end_time": "2025-05-09T15:33:16.439805Z",
     "start_time": "2025-05-09T15:33:16.421732Z"
    }
   },
   "source": [
    "from pathlib import Path\n",
    "import os\n",
    "import sys\n",
    "\n",
    "root_path = os.getcwd().split('application_source')[0] + 'application_source'\n",
    "sys.path.append(root_path)"
   ],
   "outputs": [],
   "execution_count": 1
  },
  {
   "metadata": {
    "ExecuteTime": {
     "end_time": "2025-05-09T15:33:52.885534Z",
     "start_time": "2025-05-09T15:33:18.038656Z"
    }
   },
   "cell_type": "code",
   "source": "from services.framework_model import HostedLlm",
   "id": "f3b3a5a4bb2d7fd6",
   "outputs": [
    {
     "name": "stderr",
     "output_type": "stream",
     "text": [
      "C:\\Users\\Acer\\PycharmProjects\\sheduling_agent\\.venv\\Lib\\site-packages\\tqdm\\auto.py:21: TqdmWarning: IProgress not found. Please update jupyter and ipywidgets. See https://ipywidgets.readthedocs.io/en/stable/user_install.html\n",
      "  from .autonotebook import tqdm as notebook_tqdm\n"
     ]
    }
   ],
   "execution_count": 2
  },
  {
   "metadata": {
    "ExecuteTime": {
     "end_time": "2025-05-09T15:33:55.462718Z",
     "start_time": "2025-05-09T15:33:52.947425Z"
    }
   },
   "cell_type": "code",
   "source": "llm = HostedLlm()",
   "id": "94817261e6c1ff71",
   "outputs": [],
   "execution_count": 3
  },
  {
   "metadata": {
    "ExecuteTime": {
     "end_time": "2025-05-09T15:40:15.249676Z",
     "start_time": "2025-05-09T15:40:15.237089Z"
    }
   },
   "cell_type": "code",
   "source": "query = \"\"\" This is just to check connection\"\"\"",
   "id": "2277829ed14d9468",
   "outputs": [],
   "execution_count": 7
  },
  {
   "metadata": {
    "ExecuteTime": {
     "end_time": "2025-05-09T15:40:16.539598Z",
     "start_time": "2025-05-09T15:40:15.826460Z"
    }
   },
   "cell_type": "code",
   "source": [
    "llm.forward(\n",
    "    context = [{\"role\":\"system\", \"content\":\"You are assistant\"},\n",
    "               {\"role\":\"user\", \"content\":f\"{query}\"}]\n",
    ")"
   ],
   "id": "c0c1f513a708a6f2",
   "outputs": [
    {
     "data": {
      "text/plain": [
       "'Connection is working! How can I assist you today?'"
      ]
     },
     "execution_count": 8,
     "metadata": {},
     "output_type": "execute_result"
    }
   ],
   "execution_count": 8
  },
  {
   "metadata": {},
   "cell_type": "code",
   "outputs": [],
   "execution_count": null,
   "source": "",
   "id": "b087c23292dc87ef"
  }
 ],
 "metadata": {
  "kernelspec": {
   "display_name": "Python 3",
   "language": "python",
   "name": "python3"
  },
  "language_info": {
   "codemirror_mode": {
    "name": "ipython",
    "version": 2
   },
   "file_extension": ".py",
   "mimetype": "text/x-python",
   "name": "python",
   "nbconvert_exporter": "python",
   "pygments_lexer": "ipython2",
   "version": "2.7.6"
  }
 },
 "nbformat": 4,
 "nbformat_minor": 5
}
