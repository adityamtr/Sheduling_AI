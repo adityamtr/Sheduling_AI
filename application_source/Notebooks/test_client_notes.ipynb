{
 "cells": [
  {
   "cell_type": "code",
   "id": "initial_id",
   "metadata": {
    "collapsed": true,
    "ExecuteTime": {
     "end_time": "2025-05-04T18:21:33.757324Z",
     "start_time": "2025-05-04T18:21:32.717931Z"
    }
   },
   "source": [
    "import pandas as pd\n",
    "import os\n",
    "from pathlib import Path"
   ],
   "outputs": [],
   "execution_count": 1
  },
  {
   "metadata": {
    "ExecuteTime": {
     "end_time": "2025-05-04T18:21:34.063138Z",
     "start_time": "2025-05-04T18:21:34.058230Z"
    }
   },
   "cell_type": "code",
   "source": [
    "root_path = Path(os.getcwd().split('application_source')[0] + 'application_source')\n",
    "print(root_path)"
   ],
   "id": "4bd6404ee5bb75b4",
   "outputs": [
    {
     "name": "stdout",
     "output_type": "stream",
     "text": [
      "C:\\Users\\Acer\\PycharmProjects\\sheduling_agent\\Shceduling_AI\\application_source\n"
     ]
    }
   ],
   "execution_count": 2
  },
  {
   "metadata": {
    "ExecuteTime": {
     "end_time": "2025-05-04T18:21:34.104094Z",
     "start_time": "2025-05-04T18:21:34.089017Z"
    }
   },
   "cell_type": "code",
   "source": [
    "clients = pd.read_csv(root_path / 'data/raw/clients.csv')\n",
    "meeting_notes = pd.read_csv(root_path / 'data/raw/meeting_notes.csv')"
   ],
   "id": "f735bde36c5ef46a",
   "outputs": [],
   "execution_count": 3
  },
  {
   "metadata": {
    "ExecuteTime": {
     "end_time": "2025-05-04T18:21:34.167893Z",
     "start_time": "2025-05-04T18:21:34.150905Z"
    }
   },
   "cell_type": "code",
   "source": "df = pd.merge(clients, meeting_notes, on='client_id', how='left')",
   "id": "627f8f0a8140b90f",
   "outputs": [],
   "execution_count": 4
  },
  {
   "metadata": {
    "ExecuteTime": {
     "end_time": "2025-05-04T18:21:34.211860Z",
     "start_time": "2025-05-04T18:21:34.192594Z"
    }
   },
   "cell_type": "code",
   "source": "df[df['client_id']=='x1']",
   "id": "4c6a95bab83808ea",
   "outputs": [
    {
     "data": {
      "text/plain": [
       "  client_id                         name    industry region  priority_score  \\\n",
       "0        x1  Weber, Williams and Wallace  Healthcare   East            0.87   \n",
       "1        x1  Weber, Williams and Wallace  Healthcare   East            0.87   \n",
       "2        x1  Weber, Williams and Wallace  Healthcare   East            0.87   \n",
       "\n",
       "  last_meeting_date meeting_freq availability product_interest  \\\n",
       "0        2025-04-01          Low  Tue 9-11 AM     AI Assistant   \n",
       "1        2025-04-01          Low  Tue 9-11 AM     AI Assistant   \n",
       "2        2025-04-01          Low  Tue 9-11 AM     AI Assistant   \n",
       "\n",
       "   annual_revenue_m client_type  \\\n",
       "0              52.6    Existing   \n",
       "1              52.6    Existing   \n",
       "2              52.6    Existing   \n",
       "\n",
       "                                        meeting_text sentiment  \\\n",
       "0  Presented new feature roadmap. Client sees str...  Positive   \n",
       "1  Talked about competitive landscape. Client wan...  Positive   \n",
       "2  Addressed service issues. Client is cautiously...  Negative   \n",
       "\n",
       "  action_required                      next_step  \n",
       "0             Yes  Get hold face watch but live.  \n",
       "1             Yes    Fall school each statement.  \n",
       "2              No       Hair perform box matter.  "
      ],
      "text/html": [
       "<div>\n",
       "<style scoped>\n",
       "    .dataframe tbody tr th:only-of-type {\n",
       "        vertical-align: middle;\n",
       "    }\n",
       "\n",
       "    .dataframe tbody tr th {\n",
       "        vertical-align: top;\n",
       "    }\n",
       "\n",
       "    .dataframe thead th {\n",
       "        text-align: right;\n",
       "    }\n",
       "</style>\n",
       "<table border=\"1\" class=\"dataframe\">\n",
       "  <thead>\n",
       "    <tr style=\"text-align: right;\">\n",
       "      <th></th>\n",
       "      <th>client_id</th>\n",
       "      <th>name</th>\n",
       "      <th>industry</th>\n",
       "      <th>region</th>\n",
       "      <th>priority_score</th>\n",
       "      <th>last_meeting_date</th>\n",
       "      <th>meeting_freq</th>\n",
       "      <th>availability</th>\n",
       "      <th>product_interest</th>\n",
       "      <th>annual_revenue_m</th>\n",
       "      <th>client_type</th>\n",
       "      <th>meeting_text</th>\n",
       "      <th>sentiment</th>\n",
       "      <th>action_required</th>\n",
       "      <th>next_step</th>\n",
       "    </tr>\n",
       "  </thead>\n",
       "  <tbody>\n",
       "    <tr>\n",
       "      <th>0</th>\n",
       "      <td>x1</td>\n",
       "      <td>Weber, Williams and Wallace</td>\n",
       "      <td>Healthcare</td>\n",
       "      <td>East</td>\n",
       "      <td>0.87</td>\n",
       "      <td>2025-04-01</td>\n",
       "      <td>Low</td>\n",
       "      <td>Tue 9-11 AM</td>\n",
       "      <td>AI Assistant</td>\n",
       "      <td>52.6</td>\n",
       "      <td>Existing</td>\n",
       "      <td>Presented new feature roadmap. Client sees str...</td>\n",
       "      <td>Positive</td>\n",
       "      <td>Yes</td>\n",
       "      <td>Get hold face watch but live.</td>\n",
       "    </tr>\n",
       "    <tr>\n",
       "      <th>1</th>\n",
       "      <td>x1</td>\n",
       "      <td>Weber, Williams and Wallace</td>\n",
       "      <td>Healthcare</td>\n",
       "      <td>East</td>\n",
       "      <td>0.87</td>\n",
       "      <td>2025-04-01</td>\n",
       "      <td>Low</td>\n",
       "      <td>Tue 9-11 AM</td>\n",
       "      <td>AI Assistant</td>\n",
       "      <td>52.6</td>\n",
       "      <td>Existing</td>\n",
       "      <td>Talked about competitive landscape. Client wan...</td>\n",
       "      <td>Positive</td>\n",
       "      <td>Yes</td>\n",
       "      <td>Fall school each statement.</td>\n",
       "    </tr>\n",
       "    <tr>\n",
       "      <th>2</th>\n",
       "      <td>x1</td>\n",
       "      <td>Weber, Williams and Wallace</td>\n",
       "      <td>Healthcare</td>\n",
       "      <td>East</td>\n",
       "      <td>0.87</td>\n",
       "      <td>2025-04-01</td>\n",
       "      <td>Low</td>\n",
       "      <td>Tue 9-11 AM</td>\n",
       "      <td>AI Assistant</td>\n",
       "      <td>52.6</td>\n",
       "      <td>Existing</td>\n",
       "      <td>Addressed service issues. Client is cautiously...</td>\n",
       "      <td>Negative</td>\n",
       "      <td>No</td>\n",
       "      <td>Hair perform box matter.</td>\n",
       "    </tr>\n",
       "  </tbody>\n",
       "</table>\n",
       "</div>"
      ]
     },
     "execution_count": 5,
     "metadata": {},
     "output_type": "execute_result"
    }
   ],
   "execution_count": 5
  },
  {
   "metadata": {
    "ExecuteTime": {
     "end_time": "2025-05-04T18:21:34.740138Z",
     "start_time": "2025-05-04T18:21:34.734564Z"
    }
   },
   "cell_type": "code",
   "source": [
    "query = \"\"\"\n",
    "Customer Profile:\n",
    "Name: {name}\n",
    "Client Type: {client_type}\n",
    "\n",
    "Conversation Flow: Joe is interested one of the proposed product.\n",
    "\"\"\""
   ],
   "id": "bb2f93ae4cb2a297",
   "outputs": [],
   "execution_count": 6
  },
  {
   "metadata": {
    "ExecuteTime": {
     "end_time": "2025-05-04T18:21:36.872168Z",
     "start_time": "2025-05-04T18:21:36.862499Z"
    }
   },
   "cell_type": "code",
   "source": [
    "for user in df['client_id'].unique().tolist():\n",
    "    if user == 'x3':\n",
    "        temp = df[df['client_id'] == user].reset_index()\n",
    "        query = \"\"\n",
    "        for index, row in temp.iterrows():\n",
    "            print(row)\n",
    "            if index == 0:\n",
    "                name = row['name']\n",
    "                client_type = row['client_type']\n",
    "                query += f\"\"\"Customer Profile:\\nName: {name}\\nClient Type: {client_type}\\n\\nConversation Flow:\\n\"\"\"\n",
    "            meeting_text = row['meeting_text']\n",
    "            sentiment = row['sentiment']\n",
    "\n",
    "            query += f\"\"\"step {index+1}: {meeting_text} - customer sentiment :{sentiment}\\n\"\"\"\n",
    "        break"
   ],
   "id": "3f9b32fbeb511586",
   "outputs": [
    {
     "name": "stdout",
     "output_type": "stream",
     "text": [
      "index                                                                6\n",
      "client_id                                                           x3\n",
      "name                                                      Dixon-Wilson\n",
      "industry                                                 Manufacturing\n",
      "region                                                           South\n",
      "priority_score                                                    0.61\n",
      "last_meeting_date                                           2025-02-16\n",
      "meeting_freq                                                    Medium\n",
      "availability                                               Mon 11-1 PM\n",
      "product_interest                                         Cybersecurity\n",
      "annual_revenue_m                                                176.72\n",
      "client_type                                                        New\n",
      "meeting_text         Explored upsell opportunities. Client impresse...\n",
      "sentiment                                                      Neutral\n",
      "action_required                                                    Yes\n",
      "next_step                      Do middle scientist cell building fear.\n",
      "Name: 0, dtype: object\n",
      "index                                                                7\n",
      "client_id                                                           x3\n",
      "name                                                      Dixon-Wilson\n",
      "industry                                                 Manufacturing\n",
      "region                                                           South\n",
      "priority_score                                                    0.61\n",
      "last_meeting_date                                           2025-02-16\n",
      "meeting_freq                                                    Medium\n",
      "availability                                               Mon 11-1 PM\n",
      "product_interest                                         Cybersecurity\n",
      "annual_revenue_m                                                176.72\n",
      "client_type                                                        New\n",
      "meeting_text         Discussed scaling challenges. Client requested...\n",
      "sentiment                                                      Neutral\n",
      "action_required                                                    Yes\n",
      "next_step                   Learn someone management radio serious or.\n",
      "Name: 1, dtype: object\n",
      "index                                                                8\n",
      "client_id                                                           x3\n",
      "name                                                      Dixon-Wilson\n",
      "industry                                                 Manufacturing\n",
      "region                                                           South\n",
      "priority_score                                                    0.61\n",
      "last_meeting_date                                           2025-02-16\n",
      "meeting_freq                                                    Medium\n",
      "availability                                               Mon 11-1 PM\n",
      "product_interest                                         Cybersecurity\n",
      "annual_revenue_m                                                176.72\n",
      "client_type                                                        New\n",
      "meeting_text         Reviewed current contract. Client raised conce...\n",
      "sentiment                                                     Positive\n",
      "action_required                                                     No\n",
      "next_step                Yes catch computer record town power company.\n",
      "Name: 2, dtype: object\n"
     ]
    }
   ],
   "execution_count": 7
  },
  {
   "metadata": {
    "ExecuteTime": {
     "end_time": "2025-05-04T18:21:37.125930Z",
     "start_time": "2025-05-04T18:21:37.114276Z"
    }
   },
   "cell_type": "code",
   "source": "print(query)",
   "id": "8a2988196db70fd6",
   "outputs": [
    {
     "name": "stdout",
     "output_type": "stream",
     "text": [
      "Customer Profile:\n",
      "Name: Dixon-Wilson\n",
      "Client Type: New\n",
      "\n",
      "Conversation Flow:\n",
      "step 1: Explored upsell opportunities. Client impressed with AI Assistant performance. - customer sentiment :Neutral\n",
      "step 2: Discussed scaling challenges. Client requested case studies on Cloud Platform. - customer sentiment :Neutral\n",
      "step 3: Reviewed current contract. Client raised concerns about Cybersecurity integration. - customer sentiment :Positive\n",
      "\n"
     ]
    }
   ],
   "execution_count": 8
  },
  {
   "metadata": {
    "ExecuteTime": {
     "end_time": "2025-05-04T18:22:15.913139Z",
     "start_time": "2025-05-04T18:21:42.033684Z"
    }
   },
   "cell_type": "code",
   "source": [
    "from services.dialog_service import Agent_Orchestrator\n",
    "from services.agentic import Agent_Generate_Interaction, Agent_Generate_Summary"
   ],
   "id": "e1e9f9a26ed115cc",
   "outputs": [
    {
     "name": "stderr",
     "output_type": "stream",
     "text": [
      "C:\\Users\\Acer\\PycharmProjects\\sheduling_agent\\.venv\\Lib\\site-packages\\tqdm\\auto.py:21: TqdmWarning: IProgress not found. Please update jupyter and ipywidgets. See https://ipywidgets.readthedocs.io/en/stable/user_install.html\n",
      "  from .autonotebook import tqdm as notebook_tqdm\n",
      "Sliding Window Attention is enabled but not implemented for `sdpa`; unexpected results may be encountered.\n",
      "Loading checkpoint shards: 100%|██████████| 3/3 [00:23<00:00,  7.73s/it]\n"
     ]
    }
   ],
   "execution_count": 9
  },
  {
   "metadata": {
    "ExecuteTime": {
     "end_time": "2025-05-04T18:23:12.058907Z",
     "start_time": "2025-05-04T18:22:15.989587Z"
    }
   },
   "cell_type": "code",
   "source": [
    "orchestrator = Agent_Orchestrator(prompt_func=Agent_Generate_Interaction().prompt_func)\n",
    "generated_transcript = orchestrator.run(query)"
   ],
   "id": "2f3c8cbff3b333cc",
   "outputs": [],
   "execution_count": 10
  },
  {
   "metadata": {
    "ExecuteTime": {
     "end_time": "2025-05-04T18:24:07.024441Z",
     "start_time": "2025-05-04T18:23:15.711831Z"
    }
   },
   "cell_type": "code",
   "source": [
    "orchestrator = Agent_Orchestrator(prompt_func=Agent_Generate_Summary().prompt_func)\n",
    "summary = orchestrator.run(query)"
   ],
   "id": "f61d4cad45d222e",
   "outputs": [],
   "execution_count": 11
  },
  {
   "metadata": {
    "ExecuteTime": {
     "end_time": "2025-05-04T18:24:18.471078Z",
     "start_time": "2025-05-04T18:24:18.459676Z"
    }
   },
   "cell_type": "code",
   "source": "print(generated_transcript)",
   "id": "69561138a6233b52",
   "outputs": [
    {
     "name": "stdout",
     "output_type": "stream",
     "text": [
      "** Customer **: Hi, I’m Dixon-Wilson. I’ve been using your AI Assistant for a while now, and it’s really impressive. How can I help you today?\n",
      "\n",
      "** Advisor **: Hello Dixon-Wilson! It’s great to hear that you’re enjoying the AI Assistant. Is there anything specific you’d like to discuss or perhaps some upsell opportunities we could explore together?\n",
      "\n",
      "** Customer **: Yeah, I was just thinking about how I could scale my operations. Do you have any case studies or success stories related to that?\n",
      "\n",
      "** Advisor **: Absolutely, scaling can be quite challenging. We have several case studies that demonstrate how our platform has helped businesses grow significantly. Would you like me to send you some more detailed information?\n",
      "\n",
      "** Customer **: Sure, that would be helpful. Also, I heard you mentioned something about cloud platforms. Can you share some case studies on that too?\n",
      "\n",
      "** Advisor **: Of course, I’ll gather those for you right away. By the way, do you have any concerns about integrating cybersecurity into our current system?\n",
      "\n",
      "** Customer **: Actually, I do. I’ve been hearing a lot about the importance of cybersecurity, especially since I’ve had some minor issues recently.\n",
      "\n",
      "** Advisor **: I understand your concerns, Dixon-Wilson. Let’s take a closer look at how we can integrate cybersecurity seamlessly into your existing system. We have a few successful projects where we’ve addressed similar challenges.\n",
      "\n",
      "** Customer **: That sounds good. Could you also provide some insights on the current contract? Are there any areas we need to review further?\n",
      "\n",
      "** Advisor **: Of course, I’ll prepare a comprehensive review of your contract. It’s important to ensure everything is up to date and meets your needs. Once I have the details, I’ll send them over to you.\n",
      "\n",
      "** Customer **: Thanks, that would be really helpful. I appreciate your efforts in making sure everything is in order.\n",
      "\n",
      "** Advisor **: You’re very welcome, Dixon-Wilson. I’m here to make sure you’re completely satisfied with our services. If you have any more questions or if there’s anything else I can assist you with, feel free to let me know.\n"
     ]
    }
   ],
   "execution_count": 12
  },
  {
   "metadata": {
    "ExecuteTime": {
     "end_time": "2025-05-04T18:24:26.457967Z",
     "start_time": "2025-05-04T18:24:26.446388Z"
    }
   },
   "cell_type": "code",
   "source": "print(summary)",
   "id": "c3ff93675fd76436",
   "outputs": [
    {
     "name": "stdout",
     "output_type": "stream",
     "text": [
      "### Meeting Summary\n",
      "\n",
      "#### Introduction\n",
      "- **Customer Profile**: Dixon-Wilson (New Client)\n",
      "- **Advisor's Role**: Financial Advisor\n",
      "\n",
      "---\n",
      "\n",
      "#### Key Points Discussed\n",
      "\n",
      "1. **Upsell Opportunities**\n",
      "   - **Discussion**: Advisor explored upsell opportunities for the client.\n",
      "   - **Outcome**: The client was impressed with the performance of the AI Assistant.\n",
      "   - **Sentiment**: Neutral\n",
      "\n",
      "2. **Scaling Challenges**\n",
      "   - **Discussion**: Advisor discussed scaling challenges and requested case studies on cloud platforms.\n",
      "   - **Outcome**: Client requested case studies on cloud platforms.\n",
      "   - **Sentiment**: Neutral\n",
      "\n",
      "3. **Current Contract Review**\n",
      "   - **Discussion**: Advisor reviewed the current contract and addressed concerns regarding cybersecurity integration.\n",
      "   - **Outcome**: Client raised concerns about cybersecurity integration but remained positive overall.\n",
      "   - **Sentiment**: Positive\n",
      "\n",
      "---\n",
      "\n",
      "#### Insights for the Advisor\n",
      "\n",
      "- **Client Sentiment Analysis**:\n",
      "  - The client was generally neutral towards the initial upsell opportunities and scaling discussions. However, the positive sentiment towards cybersecurity integration indicates that the client values security measures.\n",
      "\n",
      "- **Future Scope**:\n",
      "  - The client showed interest in case studies related to cloud platforms, suggesting a potential future need for such services.\n",
      "  - Addressing cybersecurity concerns positively could lead to a more secure and trusting relationship, which can be leveraged for future upsells and contracts.\n",
      "\n",
      "- **Strategic Actions**:\n",
      "  - **Upsell Strategy**: Continue to highlight the benefits of additional services provided by the AI Assistant.\n",
      "  - **Case Studies**: Prepare detailed case studies on cloud platforms to address the client’s interest.\n",
      "  - **Cybersecurity Focus**: Emphasize the importance of cybersecurity and offer solutions to ensure the client feels secure and protected.\n",
      "\n",
      "---\n",
      "\n",
      "### Summary\n",
      "The meeting focused on exploring upsell opportunities and addressing scaling challenges. While the client was neutral towards these topics, they were positive about cybersecurity integration. The advisor should continue to emphasize the benefits of additional services and prepare case studies on cloud platforms. Addressing cybersecurity concerns will likely strengthen the client's trust and open up future opportunities.\n"
     ]
    }
   ],
   "execution_count": 13
  },
  {
   "metadata": {},
   "cell_type": "code",
   "outputs": [],
   "execution_count": null,
   "source": "",
   "id": "5e65b1d839e58cd5"
  }
 ],
 "metadata": {
  "kernelspec": {
   "display_name": "Python 3",
   "language": "python",
   "name": "python3"
  },
  "language_info": {
   "codemirror_mode": {
    "name": "ipython",
    "version": 2
   },
   "file_extension": ".py",
   "mimetype": "text/x-python",
   "name": "python",
   "nbconvert_exporter": "python",
   "pygments_lexer": "ipython2",
   "version": "2.7.6"
  }
 },
 "nbformat": 4,
 "nbformat_minor": 5
}
