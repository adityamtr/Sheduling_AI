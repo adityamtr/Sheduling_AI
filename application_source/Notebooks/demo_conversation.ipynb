{
 "cells": [
  {
   "cell_type": "code",
   "id": "f8e52cee-e55b-473e-b991-57dbe284e514",
   "metadata": {
    "ExecuteTime": {
     "end_time": "2025-05-11T02:29:51.952742Z",
     "start_time": "2025-05-11T02:29:51.945849Z"
    }
   },
   "source": [
    "from pathlib import Path\n",
    "import os\n",
    "import sys\n",
    "\n",
    "root_path = os.getcwd().split('application_source')[0] + 'application_source'\n",
    "sys.path.append(root_path)"
   ],
   "outputs": [],
   "execution_count": 1
  },
  {
   "cell_type": "code",
   "id": "12e4bb42-24ec-495c-8f47-e3d398a12d7e",
   "metadata": {
    "ExecuteTime": {
     "end_time": "2025-05-11T02:29:52.265551Z",
     "start_time": "2025-05-11T02:29:52.257405Z"
    }
   },
   "source": [
    "root_path"
   ],
   "outputs": [
    {
     "data": {
      "text/plain": [
       "'C:\\\\Users\\\\Acer\\\\PycharmProjects\\\\sheduling_agent\\\\Shceduling_AI\\\\application_source'"
      ]
     },
     "execution_count": 2,
     "metadata": {},
     "output_type": "execute_result"
    }
   ],
   "execution_count": 2
  },
  {
   "cell_type": "code",
   "id": "initial_id",
   "metadata": {
    "ExecuteTime": {
     "end_time": "2025-05-11T02:29:54.753324Z",
     "start_time": "2025-05-11T02:29:52.283013Z"
    }
   },
   "source": [
    "from services.dialog_service import Agent_Orchestrator\n",
    "from services.agentic import Agent_Generate_Interaction"
   ],
   "outputs": [
    {
     "name": "stdout",
     "output_type": "stream",
     "text": [
      "hosted\n"
     ]
    }
   ],
   "execution_count": 3
  },
  {
   "cell_type": "code",
   "id": "27bb4570d5bcc253",
   "metadata": {
    "ExecuteTime": {
     "end_time": "2025-05-11T02:34:10.520646Z",
     "start_time": "2025-05-11T02:34:10.515531Z"
    }
   },
   "source": [
    "query = \"\"\"\n",
    "Following is products list:\n",
    "\n",
    "|    | Product Name   | Product Type    |\n",
    "|---:|:---------------|:----------------|\n",
    "|  0 | ProductA       | Glossy Paper    |\n",
    "|  1 | ProductB       | Matte Paper     |\n",
    "|  2 | ProductC       | Recycled Paper  |\n",
    "|  3 | ProductD       | Cardstock Paper |\n",
    "|  4 | ProductE       | Bond Paper      |\n",
    "|  5 | ProductF       | Newsprint Paper |\n",
    "\n",
    "Customer: Mike Ross\n",
    "Sales Representative Name: Jim Halpert\n",
    "Meeting Type: In-person\n",
    "\n",
    "Conversation Flow:\n",
    "Meeting Start: Jim Halpert met with Mike Ross at the client’s downtown office. Mike explained they were exploring greener paper options. Jim introduced ProductC (Recycled Paper) and explained its eco-certifications and smooth printing performance.\n",
    "\n",
    "Mike liked the concept but asked if it held up well for long-term file storage. Jim admitted it was more suited for short-term usage and recommended blending it with ProductE (Bond Paper) for official filing.\n",
    "\n",
    "Meeting Close: Mike appreciated the balanced approach and said he’d take it up with operations before proceeding.\n",
    "\n",
    "Conclusion: Customer requested side-by-side samples of both ProductC and ProductE.\n",
    "\"\"\""
   ],
   "outputs": [],
   "execution_count": 16
  },
  {
   "cell_type": "code",
   "id": "5078605afdb39369",
   "metadata": {
    "ExecuteTime": {
     "end_time": "2025-05-11T02:34:10.982923Z",
     "start_time": "2025-05-11T02:34:10.978363Z"
    }
   },
   "source": [
    "orchestrator = Agent_Orchestrator(prompt_func=Agent_Generate_Interaction().prompt_func)"
   ],
   "outputs": [],
   "execution_count": 17
  },
  {
   "cell_type": "code",
   "id": "53b939349bc26748",
   "metadata": {
    "ExecuteTime": {
     "end_time": "2025-05-11T02:34:14.281880Z",
     "start_time": "2025-05-11T02:34:11.201839Z"
    }
   },
   "source": [
    "res = orchestrator.run(query)\n",
    "print(res)"
   ],
   "outputs": [
    {
     "name": "stdout",
     "output_type": "stream",
     "text": [
      "** Jim Halpert **: Good morning, Mike. Thanks for taking the time to meet today at your downtown office. I understand you're exploring greener paper options, and I’d love to introduce you to our ProductC, the Recycled Paper. It’s eco-certified and offers smooth printing performance, perfect for environmentally conscious projects.\n",
      "\n",
      "** Mike Ross **: Good morning, Jim. Yes, sustainability is a priority for us. Recycled Paper sounds promising, but I’m curious—how well does it hold up for long-term file storage? We need something durable for official records.\n",
      "\n",
      "** Jim Halpert **: That’s a great question, Mike. While ProductC, our Recycled Paper, excels in short-term printing and presentations, it’s designed primarily for eco-friendly projects and may not be ideal for long-term storage. For official filing, I recommend blending it with our ProductE, Bond Paper, which offers excellent durability and archival quality.\n",
      "\n",
      "** Mike Ross **: I see. So, combining Recycled Paper with Bond Paper could give us both the eco-friendly aspect and the durability we need?\n",
      "\n",
      "** Jim Halpert **: Exactly. Using ProductC alongside ProductE allows you to maintain your sustainability goals while ensuring your files are preserved securely over time. Plus, the Bond Paper’s strength complements the recycled content nicely.\n",
      "\n",
      "** Mike Ross **: That makes sense. Do you have samples of both ProductC and ProductE? I’d like to see and compare them side by side.\n",
      "\n",
      "** Jim Halpert **: Absolutely, Mike. I’ve brought samples of both ProductC, the Recycled Paper, and ProductE, Bond Paper. You can examine their texture and print quality firsthand.\n",
      "\n",
      "** Mike Ross **: Great. I’d like to test how each performs with our printing equipment. Do you think the Recycled Paper will work well with our high-volume printers?\n",
      "\n",
      "** Jim Halpert **: Yes, ProductC is compatible with most high-volume printers, and it provides smooth printing without jams. However, for extensive printing, I recommend using it for shorter runs and reserve the Bond Paper for the more critical, long-term documents.\n",
      "\n",
      "** Mike Ross **: That’s helpful. What about the cost difference between these two products?\n",
      "\n",
      "** Jim Halpert **: ProductC, the Recycled Paper, is slightly more cost-effective due to its eco-friendly manufacturing process. ProductE, Bond Paper, is priced a bit higher because of its archival quality, but the investment ensures your documents stay preserved over time.\n",
      "\n",
      "** Mike Ross **: Understood. I appreciate the balanced approach. It seems like a good strategy to combine both for our needs.\n",
      "\n",
      "** Jim Halpert **: I’m glad you think so, Mike. It’s a practical way to align with your sustainability initiatives while maintaining the integrity of your official records.\n",
      "\n",
      "** Mike Ross **: Thanks, Jim. I’ll take this information back to our operations team and discuss the next steps.\n",
      "\n",
      "** Jim Halpert **: Sounds good, Mike. Please let me know if you need any additional samples or information. I’ll follow up to see how you’d like to proceed.\n",
      "\n",
      "** Mike Ross **: Will do. Thanks again for your time and insights today.\n",
      "\n",
      "** Jim Halpert **: My pleasure, Mike. Have a great day!\n"
     ]
    }
   ],
   "execution_count": 18
  },
  {
   "metadata": {
    "ExecuteTime": {
     "end_time": "2025-05-11T02:34:14.318489Z",
     "start_time": "2025-05-11T02:34:14.314678Z"
    }
   },
   "cell_type": "code",
   "source": "",
   "id": "445ca74884f09f2a",
   "outputs": [],
   "execution_count": null
  },
  {
   "metadata": {
    "ExecuteTime": {
     "end_time": "2025-05-11T02:34:14.351458Z",
     "start_time": "2025-05-11T02:34:14.348098Z"
    }
   },
   "cell_type": "code",
   "source": "",
   "id": "d0e31e0cd7d5bd90",
   "outputs": [],
   "execution_count": null
  },
  {
   "metadata": {
    "ExecuteTime": {
     "end_time": "2025-05-11T02:34:14.381803Z",
     "start_time": "2025-05-11T02:34:14.378297Z"
    }
   },
   "cell_type": "code",
   "source": "",
   "id": "7cd8c18474ba25d0",
   "outputs": [],
   "execution_count": null
  },
  {
   "metadata": {
    "ExecuteTime": {
     "end_time": "2025-05-11T02:33:23.672515Z",
     "start_time": "2025-05-11T02:33:23.669286Z"
    }
   },
   "cell_type": "code",
   "source": "",
   "id": "a7ab752ae7d8cbce",
   "outputs": [],
   "execution_count": null
  },
  {
   "metadata": {},
   "cell_type": "code",
   "outputs": [],
   "execution_count": null,
   "source": "",
   "id": "1253a33526838e41"
  }
 ],
 "metadata": {
  "kernelspec": {
   "display_name": "Python 3 (ipykernel)",
   "language": "python",
   "name": "python3"
  },
  "language_info": {
   "codemirror_mode": {
    "name": "ipython",
    "version": 3
   },
   "file_extension": ".py",
   "mimetype": "text/x-python",
   "name": "python",
   "nbconvert_exporter": "python",
   "pygments_lexer": "ipython3",
   "version": "3.12.10"
  }
 },
 "nbformat": 4,
 "nbformat_minor": 5
}
