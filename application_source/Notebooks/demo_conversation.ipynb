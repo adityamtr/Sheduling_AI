{
 "cells": [
  {
   "cell_type": "code",
   "execution_count": 4,
   "id": "f8e52cee-e55b-473e-b991-57dbe284e514",
   "metadata": {},
   "outputs": [],
   "source": [
    "from pathlib import Path\n",
    "import os\n",
    "import sys\n",
    "\n",
    "root_path = os.getcwd().split('application_source')[0] + 'application_source'\n",
    "sys.path.append(root_path)"
   ]
  },
  {
   "cell_type": "code",
   "execution_count": 5,
   "id": "12e4bb42-24ec-495c-8f47-e3d398a12d7e",
   "metadata": {},
   "outputs": [
    {
     "data": {
      "text/plain": [
       "'C:\\\\work\\\\Pycharm\\\\sheduling_agent\\\\Shceduling_AI\\\\application_source'"
      ]
     },
     "execution_count": 5,
     "metadata": {},
     "output_type": "execute_result"
    }
   ],
   "source": [
    "root_path"
   ]
  },
  {
   "cell_type": "code",
   "execution_count": 6,
   "id": "initial_id",
   "metadata": {
    "ExecuteTime": {
     "end_time": "2025-05-04T16:29:24.027884Z",
     "start_time": "2025-05-04T16:29:24.004107Z"
    }
   },
   "outputs": [
    {
     "name": "stdout",
     "output_type": "stream",
     "text": [
      "hosted\n"
     ]
    }
   ],
   "source": [
    "from services.dialog_service import Agent_Orchestrator\n",
    "from services.agentic import Agent_Generate_Interaction"
   ]
  },
  {
   "cell_type": "code",
   "execution_count": 7,
   "id": "27bb4570d5bcc253",
   "metadata": {
    "ExecuteTime": {
     "end_time": "2025-05-04T16:29:24.054488Z",
     "start_time": "2025-05-04T16:29:24.050905Z"
    }
   },
   "outputs": [],
   "source": [
    "query = \"\"\"\n",
    "Customer Profile:\n",
    "Name: Weber, Williams and Wallace\n",
    "Client Type: Existing\n",
    "\n",
    "Conversation Flow:\n",
    "step 1: Presented new feature roadmap. Client sees strategic fit for CRM Tool. - customer sentiment :Positive\n",
    "step 2: Talked about competitive landscape. Client wants better pricing on Analytics Suite. - customer sentiment :Positive\n",
    "step 3: Addressed service issues. Client is cautiously optimistic but wants improvements. - customer sentiment :Negative\n",
    "\"\"\""
   ]
  },
  {
   "cell_type": "code",
   "execution_count": 8,
   "id": "5078605afdb39369",
   "metadata": {
    "ExecuteTime": {
     "end_time": "2025-05-04T16:29:24.076312Z",
     "start_time": "2025-05-04T16:29:24.070943Z"
    }
   },
   "outputs": [],
   "source": [
    "orchestrator = Agent_Orchestrator(prompt_func=Agent_Generate_Interaction().prompt_func)"
   ]
  },
  {
   "cell_type": "code",
   "execution_count": 10,
   "id": "53b939349bc26748",
   "metadata": {
    "ExecuteTime": {
     "end_time": "2025-05-04T16:30:24.105683Z",
     "start_time": "2025-05-04T16:29:24.087751Z"
    }
   },
   "outputs": [
    {
     "name": "stderr",
     "output_type": "stream",
     "text": [
      "C:\\work\\Pycharm\\sheduling_agent\\Shceduling_AI\\env\\Lib\\site-packages\\urllib3\\connectionpool.py:1097: InsecureRequestWarning: Unverified HTTPS request is being made to host 'hostedqwen25mark1.loca.lt'. Adding certificate verification is strongly advised. See: https://urllib3.readthedocs.io/en/latest/advanced-usage.html#tls-warnings\n",
      "  warnings.warn(\n"
     ]
    },
    {
     "name": "stdout",
     "output_type": "stream",
     "text": [
      "** Advisor **: Good morning, Mr. Williams. I’m glad you could join me today. How can I assist you with your current needs?\n",
      "\n",
      "** Customer **: Good morning, John. Thanks for having me. I’ve been looking at the new feature roadmap and it seems like there’s a strategic fit for our CRM tool.\n",
      "\n",
      "** Advisor **: Excellent, Mr. Wallace. Our CRM tool has just been updated with several new features that align perfectly with your business goals. What do you think about that?\n",
      "\n",
      "** Customer **: It looks really promising. We’re always looking to improve our operations, so this makes sense.\n",
      "\n",
      "** Advisor **: Absolutely. Let’s dive into the competitive landscape. Do you have any concerns about the pricing for our Analytics Suite?\n",
      "\n",
      "** Customer **: Actually, I was hoping we could get a better deal on that. It’s a key part of our strategy, but the price point is a bit steep.\n",
      "\n",
      "** Advisor **: I understand, Mr. Williams. We can certainly look into that. Perhaps we can find some additional value propositions or bundle deals that might make it more attractive.\n",
      "\n",
      "** Customer **: That would be great. Can you also address any recent service issues we’ve had? We’ve been experiencing some delays in support.\n",
      "\n",
      "** Advisor **: Of course, Mr. Wallace. I apologize for any inconvenience. Let’s discuss how we can improve the service experience. Are there specific areas where you feel the most frustration?\n",
      "\n",
      "** Customer **: Well, the response time from support has been slow. Sometimes it feels like we’re waiting weeks for a simple issue to be resolved.\n",
      "\n",
      "** Advisor **: I see. We’ll definitely need to look into that. Improving our service levels is a priority. Is there anything else you’d like to add or ask about before we wrap up?\n",
      "\n",
      "** Customer **: No, that covers everything. I appreciate your efforts to address these issues. Let’s move forward with the CRM tool and see how it integrates with our existing systems.\n",
      "\n",
      "** Advisor **: Great, Mr. Wallace. We’ll ensure that the integration goes smoothly. If you have any questions or need further assistance, don’t hesitate to reach out. We’re committed to making this transition as seamless as possible.\n",
      "\n",
      "** Customer **: Thank you, John. I trust your team. Let’s proceed with the CRM tool and see how it works out.\n",
      "\n",
      "** Advisor **: Perfect, Mr. Wallace. We’ll schedule a follow-up call to review the initial setup and make any necessary adjustments. Have a great day!\n"
     ]
    }
   ],
   "source": [
    "res = orchestrator.run(query)\n",
    "print(res)"
   ]
  },
  {
   "cell_type": "code",
   "execution_count": null,
   "id": "fe573ad90a87f2d7",
   "metadata": {
    "ExecuteTime": {
     "end_time": "2025-05-04T16:30:24.165892Z",
     "start_time": "2025-05-04T16:30:24.162346Z"
    }
   },
   "outputs": [],
   "source": []
  }
 ],
 "metadata": {
  "kernelspec": {
   "display_name": "Python 3 (ipykernel)",
   "language": "python",
   "name": "python3"
  },
  "language_info": {
   "codemirror_mode": {
    "name": "ipython",
    "version": 3
   },
   "file_extension": ".py",
   "mimetype": "text/x-python",
   "name": "python",
   "nbconvert_exporter": "python",
   "pygments_lexer": "ipython3",
   "version": "3.12.10"
  }
 },
 "nbformat": 4,
 "nbformat_minor": 5
}
