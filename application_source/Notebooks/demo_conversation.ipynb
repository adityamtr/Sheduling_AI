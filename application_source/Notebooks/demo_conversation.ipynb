{
 "cells": [
  {
   "cell_type": "code",
   "id": "f8e52cee-e55b-473e-b991-57dbe284e514",
   "metadata": {
    "ExecuteTime": {
     "end_time": "2025-05-09T04:50:29.897425Z",
     "start_time": "2025-05-09T04:50:29.892990Z"
    }
   },
   "source": [
    "from pathlib import Path\n",
    "import os\n",
    "import sys\n",
    "\n",
    "root_path = os.getcwd().split('application_source')[0] + 'application_source'\n",
    "sys.path.append(root_path)"
   ],
   "outputs": [],
   "execution_count": 2
  },
  {
   "cell_type": "code",
   "id": "12e4bb42-24ec-495c-8f47-e3d398a12d7e",
   "metadata": {
    "ExecuteTime": {
     "end_time": "2025-05-09T04:50:30.289557Z",
     "start_time": "2025-05-09T04:50:30.280648Z"
    }
   },
   "source": [
    "root_path"
   ],
   "outputs": [
    {
     "data": {
      "text/plain": [
       "'C:\\\\work\\\\Pycharm\\\\sheduling_agent\\\\Shceduling_AI\\\\application_source'"
      ]
     },
     "execution_count": 3,
     "metadata": {},
     "output_type": "execute_result"
    }
   ],
   "execution_count": 3
  },
  {
   "cell_type": "code",
   "id": "initial_id",
   "metadata": {
    "ExecuteTime": {
     "end_time": "2025-05-09T04:50:36.905902Z",
     "start_time": "2025-05-09T04:50:31.037445Z"
    }
   },
   "source": [
    "from services.dialog_service import Agent_Orchestrator\n",
    "from services.agentic import Agent_Generate_Interaction"
   ],
   "outputs": [
    {
     "name": "stderr",
     "output_type": "stream",
     "text": [
      "C:\\work\\Pycharm\\sheduling_agent\\.venv\\Lib\\site-packages\\tqdm\\auto.py:21: TqdmWarning: IProgress not found. Please update jupyter and ipywidgets. See https://ipywidgets.readthedocs.io/en/stable/user_install.html\n",
      "  from .autonotebook import tqdm as notebook_tqdm\n"
     ]
    },
    {
     "name": "stdout",
     "output_type": "stream",
     "text": [
      "hosted\n"
     ]
    }
   ],
   "execution_count": 4
  },
  {
   "cell_type": "code",
   "id": "27bb4570d5bcc253",
   "metadata": {
    "ExecuteTime": {
     "end_time": "2025-05-09T04:50:39.954949Z",
     "start_time": "2025-05-09T04:50:39.949966Z"
    }
   },
   "source": [
    "query = \"\"\"\n",
    "Customer Profile:\n",
    "Name: Weber, Williams and Wallace\n",
    "Client Type: Existing\n",
    "\n",
    "Conversation Flow:\n",
    "step 1: Presented new feature roadmap. Client sees strategic fit for CRM Tool. - customer sentiment :Positive\n",
    "step 2: Talked about competitive landscape. Client wants better pricing on Analytics Suite. - customer sentiment :Positive\n",
    "step 3: Addressed service issues. Client is cautiously optimistic but wants improvements. - customer sentiment :Negative\n",
    "\"\"\""
   ],
   "outputs": [],
   "execution_count": 6
  },
  {
   "cell_type": "code",
   "id": "5078605afdb39369",
   "metadata": {
    "ExecuteTime": {
     "end_time": "2025-05-09T04:50:48.750095Z",
     "start_time": "2025-05-09T04:50:48.745463Z"
    }
   },
   "source": [
    "orchestrator = Agent_Orchestrator(prompt_func=Agent_Generate_Interaction().prompt_func)"
   ],
   "outputs": [],
   "execution_count": 7
  },
  {
   "cell_type": "code",
   "id": "53b939349bc26748",
   "metadata": {
    "ExecuteTime": {
     "end_time": "2025-05-09T04:56:01.381384200Z",
     "start_time": "2025-05-09T04:50:49.302012Z"
    }
   },
   "source": [
    "res = orchestrator.run(query)\n",
    "print(res)"
   ],
   "outputs": [
    {
     "name": "stderr",
     "output_type": "stream",
     "text": [
      "C:\\work\\Pycharm\\sheduling_agent\\.venv\\Lib\\site-packages\\urllib3\\connectionpool.py:1097: InsecureRequestWarning: Unverified HTTPS request is being made to host 'hostedqwen25mark1.loca.lt'. Adding certificate verification is strongly advised. See: https://urllib3.readthedocs.io/en/latest/advanced-usage.html#tls-warnings\n",
      "  warnings.warn(\n"
     ]
    }
   ],
   "execution_count": null
  }
 ],
 "metadata": {
  "kernelspec": {
   "display_name": "Python 3 (ipykernel)",
   "language": "python",
   "name": "python3"
  },
  "language_info": {
   "codemirror_mode": {
    "name": "ipython",
    "version": 3
   },
   "file_extension": ".py",
   "mimetype": "text/x-python",
   "name": "python",
   "nbconvert_exporter": "python",
   "pygments_lexer": "ipython3",
   "version": "3.12.10"
  }
 },
 "nbformat": 4,
 "nbformat_minor": 5
}
