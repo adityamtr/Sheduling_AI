{
 "cells": [
  {
   "cell_type": "code",
   "id": "initial_id",
   "metadata": {
    "collapsed": true,
    "ExecuteTime": {
     "end_time": "2025-05-04T16:29:24.027884Z",
     "start_time": "2025-05-04T16:29:24.004107Z"
    }
   },
   "source": [
    "from services.dialog_service import Agent_Orchestrator\n",
    "from services.agentic import Agent_Generate_Interaction"
   ],
   "outputs": [],
   "execution_count": 5
  },
  {
   "metadata": {
    "ExecuteTime": {
     "end_time": "2025-05-04T16:29:24.054488Z",
     "start_time": "2025-05-04T16:29:24.050905Z"
    }
   },
   "cell_type": "code",
   "source": [
    "query = \"\"\"\n",
    "Customer Profile:\n",
    "Name: Weber, Williams and Wallace\n",
    "Client Type: Existing\n",
    "\n",
    "Conversation Flow:\n",
    "step 1: Presented new feature roadmap. Client sees strategic fit for CRM Tool. - customer sentiment :Positive\n",
    "step 2: Talked about competitive landscape. Client wants better pricing on Analytics Suite. - customer sentiment :Positive\n",
    "step 3: Addressed service issues. Client is cautiously optimistic but wants improvements. - customer sentiment :Negative\n",
    "\"\"\""
   ],
   "id": "27bb4570d5bcc253",
   "outputs": [],
   "execution_count": 6
  },
  {
   "metadata": {
    "ExecuteTime": {
     "end_time": "2025-05-04T16:29:24.076312Z",
     "start_time": "2025-05-04T16:29:24.070943Z"
    }
   },
   "cell_type": "code",
   "source": "orchestrator = Agent_Orchestrator(prompt_func=Agent_Generate_Interaction().prompt_func)",
   "id": "5078605afdb39369",
   "outputs": [],
   "execution_count": 7
  },
  {
   "metadata": {
    "ExecuteTime": {
     "end_time": "2025-05-04T16:30:24.105683Z",
     "start_time": "2025-05-04T16:29:24.087751Z"
    }
   },
   "cell_type": "code",
   "source": [
    "res = orchestrator.run(query)\n",
    "print(res)"
   ],
   "id": "53b939349bc26748",
   "outputs": [
    {
     "name": "stdout",
     "output_type": "stream",
     "text": [
      "** Customer **: Hi, I’m Mr. Williams from Weber, Wallace & Wallace. We’re looking to enhance our CRM strategy.\n",
      "\n",
      "** Advisor **: Good morning, Mr. Williams! It’s great to have you here. How can I assist you today?\n",
      "\n",
      "** Customer **: We’ve been using your CRM tool for a while now, and we’re really impressed with the results. However, we’d like to explore some new features that could further streamline our operations.\n",
      "\n",
      "** Advisor **: That’s fantastic to hear! Our CRM tool has indeed seen significant growth. Have you had a chance to check out our new feature roadmap yet?\n",
      "\n",
      "** Customer **: Yes, I have. It looks really promising. We’re particularly interested in the integration with our CRM system. What kind of benefits does it offer?\n",
      "\n",
      "** Advisor **: The new feature roadmap includes enhanced data analytics and improved user experience. These will help you gain deeper insights into your customer interactions and make your CRM more efficient.\n",
      "\n",
      "** Customer **: Sounds good. But I also want to know how it compares to our competitors. Do you think we’re getting a fair deal?\n",
      "\n",
      "** Advisor **: Absolutely, Mr. Williams. We conduct extensive market research to ensure our pricing is competitive. Would you like me to provide you with a detailed comparison?\n",
      "\n",
      "** Customer **: Sure, that would be helpful. And what about the Analytics Suite? We’ve noticed some pricing changes recently. Can you give us an update on that?\n",
      "\n",
      "** Advisor **: Of course. We understand that price is a critical factor for you. Our Analytics Suite offers advanced reporting and predictive analytics. We’ve recently updated our pricing to reflect these enhancements.\n",
      "\n",
      "** Customer **: That sounds good. But I still feel that the current prices might not be as competitive as they were before. What do you suggest we do?\n",
      "\n",
      "** Advisor **: I completely understand your concerns. We can certainly look into negotiating the pricing. Perhaps we can find a mutually beneficial solution that keeps you satisfied.\n",
      "\n",
      "** Customer **: Alright, let’s see where we can go from here. Can you also address any recent service issues we’ve experienced? We’ve had a few complaints from our team.\n",
      "\n",
      "** Advisor **: I’m sorry to hear about those issues. We take them very seriously. Let’s schedule a call with our service team to discuss them in detail. They’ll be able to provide you with a clear timeline for resolution.\n",
      "\n",
      "** Customer **: That would be great. We need to see some improvements, though. We can’t afford to lose our clients due to service disruptions.\n",
      "\n",
      "** Advisor **: I completely agree. We’ll work on this immediately. Is there anything specific you’d like to see improved?\n",
      "\n",
      "** Customer **: Just a bit more transparency and faster response times. We want to feel confident that we’re receiving top-notch service.\n",
      "\n",
      "** Advisor **: Understood. We’ll definitely prioritize these areas. Thank you for bringing these concerns to our attention. Let’s set up a follow-up call to review the progress and make any necessary adjustments.\n",
      "\n",
      "** Customer **: Sounds good. Thanks for your time and effort.\n",
      "\n",
      "** Advisor **: You’re very welcome, Mr. Williams. I’m glad to have this opportunity to help you. Let’s keep in touch and make sure everything runs smoothly.\n",
      "\n",
      "** Customer **: Will do. Thanks again.\n",
      "\n",
      "** Advisor **: Take care, Mr. Williams. We look forward to continuing to serve you well.\n"
     ]
    }
   ],
   "execution_count": 8
  },
  {
   "metadata": {
    "ExecuteTime": {
     "end_time": "2025-05-04T16:30:24.165892Z",
     "start_time": "2025-05-04T16:30:24.162346Z"
    }
   },
   "cell_type": "code",
   "source": "",
   "id": "fe573ad90a87f2d7",
   "outputs": [],
   "execution_count": null
  }
 ],
 "metadata": {
  "kernelspec": {
   "display_name": "Python 3",
   "language": "python",
   "name": "python3"
  },
  "language_info": {
   "codemirror_mode": {
    "name": "ipython",
    "version": 2
   },
   "file_extension": ".py",
   "mimetype": "text/x-python",
   "name": "python",
   "nbconvert_exporter": "python",
   "pygments_lexer": "ipython2",
   "version": "2.7.6"
  }
 },
 "nbformat": 4,
 "nbformat_minor": 5
}
