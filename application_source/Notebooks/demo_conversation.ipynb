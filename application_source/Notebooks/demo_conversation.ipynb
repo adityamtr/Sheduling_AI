{
 "cells": [
  {
   "cell_type": "code",
   "id": "initial_id",
   "metadata": {
    "collapsed": true,
    "ExecuteTime": {
     "end_time": "2025-05-04T05:56:14.825605Z",
     "start_time": "2025-05-04T05:55:47.942430Z"
    }
   },
   "source": [
    "from services.dialog_service import Agent_Orchestrator\n",
    "from services.agentic import Agent_Generate_Interaction"
   ],
   "outputs": [
    {
     "name": "stderr",
     "output_type": "stream",
     "text": [
      "C:\\Users\\Acer\\PycharmProjects\\sheduling_agent\\.venv\\Lib\\site-packages\\tqdm\\auto.py:21: TqdmWarning: IProgress not found. Please update jupyter and ipywidgets. See https://ipywidgets.readthedocs.io/en/stable/user_install.html\n",
      "  from .autonotebook import tqdm as notebook_tqdm\n",
      "Sliding Window Attention is enabled but not implemented for `sdpa`; unexpected results may be encountered.\n",
      "Loading checkpoint shards: 100%|██████████| 3/3 [00:19<00:00,  6.48s/it]\n"
     ]
    }
   ],
   "execution_count": 1
  },
  {
   "metadata": {
    "ExecuteTime": {
     "end_time": "2025-05-04T05:56:15.126604Z",
     "start_time": "2025-05-04T05:56:15.123495Z"
    }
   },
   "cell_type": "code",
   "source": [
    "query = \"\"\"\n",
    "Customer Profile:\n",
    "Name: Joe\n",
    "services used: Moderate\n",
    "\n",
    "customer impression till end of conversation: Joe is interested one of the proposed product.\n",
    "\"\"\""
   ],
   "id": "27bb4570d5bcc253",
   "outputs": [],
   "execution_count": 2
  },
  {
   "metadata": {
    "ExecuteTime": {
     "end_time": "2025-05-04T05:56:15.148039Z",
     "start_time": "2025-05-04T05:56:15.143423Z"
    }
   },
   "cell_type": "code",
   "source": "orchestrator = Agent_Orchestrator(prompt_func=Agent_Generate_Interaction().prompt_func)",
   "id": "5078605afdb39369",
   "outputs": [],
   "execution_count": 3
  },
  {
   "metadata": {
    "ExecuteTime": {
     "end_time": "2025-05-04T05:57:27.944958Z",
     "start_time": "2025-05-04T05:56:15.161180Z"
    }
   },
   "cell_type": "code",
   "source": [
    "res = orchestrator.run(query)\n",
    "print(res)"
   ],
   "id": "53b939349bc26748",
   "outputs": [
    {
     "name": "stdout",
     "output_type": "stream",
     "text": [
      "** Customer **: Hi, I’m Joe. Can you help me with my investments?\n",
      "** Advisor **: Of course, Joe! I understand you’re looking for ways to grow your portfolio. Let’s start by reviewing what you currently have in place.\n",
      "** Customer **: Sure, I’ve been using moderate services so far. What do you recommend?\n",
      "** Advisor **: Great! Based on your profile, we can consider a few options that might suit your needs. Let’s look at a mutual fund, an ETF, and a PPS.\n",
      "** Customer **: Sounds good. What do you think of these options?\n",
      "** Advisor **: Absolutely! First up, we have the AF Cap mutual fund, which offers an annual return of 9%. It’s a solid choice for moderate risk.\n",
      "** Customer **: That sounds reasonable. What about the ETF?\n",
      "** Advisor **: The QAR ETF has an annual return of 13%, which is slightly higher than the mutual fund. It’s also more flexible and allows you to trade more frequently.\n",
      "** Customer **: And the PPS?\n",
      "** Advisor **: The AOX PPS offers an impressive annual return of 20%, making it a great option for those who want to maximize their returns. However, it comes with higher risks.\n",
      "** Customer **: I see. So, which one do you think would be best for me?\n",
      "** Advisor **: Given your interest in moderate risk and growth, the AF Cap mutual fund seems like a balanced choice. It offers a steady return without the volatility of the other options.\n",
      "** Customer **: That sounds perfect. How does it compare to my current investments?\n",
      "** Advisor **: Well, the AF Cap mutual fund aligns well with your existing investments. It’s a natural progression and could potentially offer better performance over time.\n",
      "** Customer **: I agree. What’s involved in switching to this fund?\n",
      "** Advisor **: Switching involves a simple process. We’ll just need to transfer your holdings into the AF Cap mutual fund. It’s a straightforward step.\n",
      "** Customer **: That sounds easy enough. When should I make this change?\n",
      "** Advisor **: Ideally, you could make the switch now or within the next month. This way, you can benefit from the new investment while keeping your current funds intact.\n",
      "** Customer **: Alright, let’s do it now. How do I proceed?\n",
      "** Advisor **: Perfect! I’ll guide you through the steps. First, we’ll log into our online platform, then you’ll select the AF Cap mutual fund as your new investment.\n",
      "** Customer **: Got it. Any fees involved?\n",
      "** Advisor **: There are no additional fees when you invest in the AF Cap mutual fund. It’s part of our service package, so you won’t pay extra.\n",
      "** Customer **: That’s great to hear. Is there anything else I should know before I make the switch?\n",
      "** Advisor **: Just a quick note that you might want to monitor your account periodically to ensure everything is working smoothly. If you have any questions, feel free to reach out.\n",
      "** Customer **: Thanks, I’ll keep that in mind. When can I expect to see the benefits of this investment?\n",
      "** Advisor **: With the AF Cap mutual fund, you should start seeing steady growth in your portfolio. Over time, this can lead to significant gains.\n",
      "** Customer **: That sounds promising. I’m excited to see where this leads.\n",
      "** Advisor **: Me too, Joe! I’m confident that the AF Cap mutual fund will be a wise choice for you. If you have any more questions or concerns, don’t hesitate to ask.\n",
      "** Customer **: I appreciate your confidence. I’m definitely considering this option.\n",
      "** Advisor **: Excellent decision! If you decide to go ahead, I’ll assist you with the transition. Let’s schedule a follow-up call in a couple of weeks to review your progress.\n",
      "** Customer **: Sounds good. Thank you for all your help today.\n",
      "** Advisor **: You’re very welcome, Joe! I’m glad I could help. Take care, and I’ll see you soon for the follow-up.\n"
     ]
    }
   ],
   "execution_count": 4
  },
  {
   "metadata": {
    "ExecuteTime": {
     "end_time": "2025-05-04T05:57:28.010969Z",
     "start_time": "2025-05-04T05:57:28.008794Z"
    }
   },
   "cell_type": "code",
   "source": "",
   "id": "fe573ad90a87f2d7",
   "outputs": [],
   "execution_count": null
  }
 ],
 "metadata": {
  "kernelspec": {
   "display_name": "Python 3",
   "language": "python",
   "name": "python3"
  },
  "language_info": {
   "codemirror_mode": {
    "name": "ipython",
    "version": 2
   },
   "file_extension": ".py",
   "mimetype": "text/x-python",
   "name": "python",
   "nbconvert_exporter": "python",
   "pygments_lexer": "ipython2",
   "version": "2.7.6"
  }
 },
 "nbformat": 4,
 "nbformat_minor": 5
}
