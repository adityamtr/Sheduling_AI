{
 "cells": [
  {
   "cell_type": "code",
   "execution_count": null,
   "metadata": {},
   "outputs": [],
   "source": [
    "from pathlib import Path\n",
    "import os\n",
    "import sys\n",
    "\n",
    "root_path = os.getcwd().split('application_source')[0] + 'application_source'\n",
    "sys.path.append(root_path)"
   ]
  },
  {
   "cell_type": "code",
   "execution_count": 1,
   "metadata": {},
   "outputs": [],
   "source": [
    "import requests"
   ]
  },
  {
   "cell_type": "code",
   "execution_count": 2,
   "metadata": {},
   "outputs": [],
   "source": [
    "url = \"https://hostedqwen25mark1.loca.lt\"\n",
    "endpoint = \"/call_qwen_llm\"\n",
    "\n",
    "path = f\"{url}{endpoint}\"\n",
    "\n",
    "data = {\n",
    "  \"context\": '[{\"role\":\"system\", \"content\":\"you are helpfull assistant\"}, {\"role\":\"user\", \"content\":\"what is capital of india?\"}]'\n",
    "}"
   ]
  },
  {
   "cell_type": "code",
   "execution_count": 4,
   "metadata": {},
   "outputs": [
    {
     "name": "stderr",
     "output_type": "stream",
     "text": [
      "c:\\Users\\265532\\Desktop\\Hackathon\\myenv\\Lib\\site-packages\\urllib3\\connectionpool.py:1097: InsecureRequestWarning: Unverified HTTPS request is being made to host 'hostedqwen25mark1.loca.lt'. Adding certificate verification is strongly advised. See: https://urllib3.readthedocs.io/en/latest/advanced-usage.html#tls-warnings\n",
      "  warnings.warn(\n"
     ]
    },
    {
     "name": "stdout",
     "output_type": "stream",
     "text": [
      "Success: {'response': \"The capital of India is New Delhi. However, it's important to note that the city of Delhi is a union territory and includes both New Delhi (the administrative capital) and Old Delhi (the historical part of the city).\"}\n"
     ]
    }
   ],
   "source": [
    "response = requests.post(path, json=data, verify = False)\n",
    "\n",
    "if response.status_code == 200:\n",
    "    print(\"Success:\", response.json())  # Output the response JSON\n",
    "else:\n",
    "    print(f\"Error: {response.status_code}, {response.text}\")"
   ]
  }
 ],
 "metadata": {
  "kernelspec": {
   "display_name": "Python 3 (ipykernel)",
   "language": "python",
   "name": "python3"
  },
  "language_info": {
   "codemirror_mode": {
    "name": "ipython",
    "version": 3
   },
   "file_extension": ".py",
   "mimetype": "text/x-python",
   "name": "python",
   "nbconvert_exporter": "python",
   "pygments_lexer": "ipython3",
   "version": "3.12.10"
  }
 },
 "nbformat": 4,
 "nbformat_minor": 4
}
