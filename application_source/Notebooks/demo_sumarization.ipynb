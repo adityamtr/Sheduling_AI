{
 "cells": [
  {
   "cell_type": "code",
   "id": "f9301a66-0557-4ca2-9f02-6be8122c9a1a",
   "metadata": {
    "ExecuteTime": {
     "end_time": "2025-05-09T08:16:09.797196Z",
     "start_time": "2025-05-09T08:16:09.789676Z"
    }
   },
   "source": [
    "from pathlib import Path\n",
    "import os\n",
    "import sys\n",
    "\n",
    "root_path = os.getcwd().split('application_source')[0] + 'application_source'\n",
    "sys.path.append(root_path)"
   ],
   "outputs": [],
   "execution_count": 1
  },
  {
   "cell_type": "code",
   "id": "initial_id",
   "metadata": {
    "collapsed": true,
    "jupyter": {
     "outputs_hidden": true
    },
    "ExecuteTime": {
     "end_time": "2025-05-09T08:16:15.399662Z",
     "start_time": "2025-05-09T08:16:10.643787Z"
    }
   },
   "source": [
    "from services.dialog_service import Agent_Orchestrator\n",
    "from services.agentic import Agent_Generate_Summary"
   ],
   "outputs": [
    {
     "name": "stderr",
     "output_type": "stream",
     "text": [
      "C:\\work\\Pycharm\\sheduling_agent\\.venv\\Lib\\site-packages\\tqdm\\auto.py:21: TqdmWarning: IProgress not found. Please update jupyter and ipywidgets. See https://ipywidgets.readthedocs.io/en/stable/user_install.html\n",
      "  from .autonotebook import tqdm as notebook_tqdm\n"
     ]
    },
    {
     "name": "stdout",
     "output_type": "stream",
     "text": [
      "hosted\n"
     ]
    }
   ],
   "execution_count": 2
  },
  {
   "cell_type": "code",
   "id": "27bb4570d5bcc253",
   "metadata": {
    "ExecuteTime": {
     "end_time": "2025-05-09T08:16:18.440618Z",
     "start_time": "2025-05-09T08:16:18.435300Z"
    }
   },
   "source": [
    "query = \"\"\"\n",
    "** Customer **: Hi, I’m Joe. Can you help me with my investments?\n",
    "** Advisor **: Of course, Joe! I understand you’re looking for ways to grow your portfolio. Let’s start by reviewing what you currently have in place.\n",
    "** Customer **: Sure, I’ve been using moderate services so far. What do you recommend?\n",
    "** Advisor **: Great! Based on your profile, we can consider a few options that might suit your needs. Let’s look at a mutual fund, an ETF, and a PPS.\n",
    "** Customer **: Sounds good. What do you think of these options?\n",
    "** Advisor **: Absolutely! First up, we have the AF Cap mutual fund, which offers an annual return of 9%. It’s a solid choice for moderate risk.\n",
    "** Customer **: That sounds reasonable. What about the ETF?\n",
    "** Advisor **: The QAR ETF has an annual return of 13%, which is slightly higher than the mutual fund. It’s also more flexible and allows you to trade more frequently.\n",
    "** Customer **: And the PPS?\n",
    "** Advisor **: The AOX PPS offers an impressive annual return of 20%, making it a great option for those who want to maximize their returns. However, it comes with higher risks.\n",
    "** Customer **: I see. So, which one do you think would be best for me?\n",
    "** Advisor **: Given your interest in moderate risk and growth, the AF Cap mutual fund seems like a balanced choice. It offers a steady return without the volatility of the other options.\n",
    "** Customer **: That sounds perfect. How does it compare to my current investments?\n",
    "** Advisor **: Well, the AF Cap mutual fund aligns well with your existing investments. It’s a natural progression and could potentially offer better performance over time.\n",
    "** Customer **: I agree. What’s involved in switching to this fund?\n",
    "** Advisor **: Switching involves a simple process. We’ll just need to transfer your holdings into the AF Cap mutual fund. It’s a straightforward step.\n",
    "** Customer **: That sounds easy enough. When should I make this change?\n",
    "** Advisor **: Ideally, you could make the switch now or within the next month. This way, you can benefit from the new investment while keeping your current funds intact.\n",
    "** Customer **: Alright, let’s do it now. How do I proceed?\n",
    "** Advisor **: Perfect! I’ll guide you through the steps. First, we’ll log into our online platform, then you’ll select the AF Cap mutual fund as your new investment.\n",
    "** Customer **: Got it. Any fees involved?\n",
    "** Advisor **: There are no additional fees when you invest in the AF Cap mutual fund. It’s part of our service package, so you won’t pay extra.\n",
    "** Customer **: That’s great to hear. Is there anything else I should know before I make the switch?\n",
    "** Advisor **: Just a quick note that you might want to monitor your account periodically to ensure everything is working smoothly. If you have any questions, feel free to reach out.\n",
    "** Customer **: Thanks, I’ll keep that in mind. When can I expect to see the benefits of this investment?\n",
    "** Advisor **: With the AF Cap mutual fund, you should start seeing steady growth in your portfolio. Over time, this can lead to significant gains.\n",
    "** Customer **: That sounds promising. I’m excited to see where this leads.\n",
    "** Advisor **: Me too, Joe! I’m confident that the AF Cap mutual fund will be a wise choice for you. If you have any more questions or concerns, don’t hesitate to ask.\n",
    "** Customer **: I appreciate your confidence. I’m definitely considering this option.\n",
    "** Advisor **: Excellent decision! If you decide to go ahead, I’ll assist you with the transition. Let’s schedule a follow-up call in a couple of weeks to review your progress.\n",
    "** Customer **: Sounds good. Thank you for all your help today.\n",
    "** Advisor **: You’re very welcome, Joe! I’m glad I could help. Take care, and I’ll see you soon for the follow-up.\n",
    "\"\"\""
   ],
   "outputs": [],
   "execution_count": 3
  },
  {
   "cell_type": "code",
   "id": "5078605afdb39369",
   "metadata": {
    "ExecuteTime": {
     "end_time": "2025-05-09T08:16:22.699984Z",
     "start_time": "2025-05-09T08:16:22.695425Z"
    }
   },
   "source": [
    "orchestrator = Agent_Orchestrator(prompt_func=Agent_Generate_Summary().prompt_func)"
   ],
   "outputs": [],
   "execution_count": 4
  },
  {
   "cell_type": "code",
   "id": "53b939349bc26748",
   "metadata": {
    "ExecuteTime": {
     "end_time": "2025-05-09T08:16:29.202608Z",
     "start_time": "2025-05-09T08:16:24.734299Z"
    }
   },
   "source": [
    "res = orchestrator.run(query)\n",
    "print(res)"
   ],
   "outputs": [
    {
     "name": "stdout",
     "output_type": "stream",
     "text": [
      "# Meeting Summary: Investment Consultation between Sales Representative and Customer\n",
      "\n",
      "## Primary Points Discussed\n",
      "- Customer Joe seeks advice on growing his investment portfolio.\n",
      "- Advisor reviews current moderate investment services used by Joe.\n",
      "- Presentation of three investment options:\n",
      "  - **AF Cap Mutual Fund** (9% annual return, moderate risk)\n",
      "  - **QAR ETF** (13% annual return, higher flexibility and risk)\n",
      "  - **AOX PPS** (20% annual return, higher risk)\n",
      "- Recommendation for Joe: **AF Cap Mutual Fund** due to its balanced risk and steady growth aligned with his profile.\n",
      "- Discussion on the process of switching investments, which is straightforward and fee-free.\n",
      "- Emphasis on monitoring investments periodically for optimal performance.\n",
      "- Timeline suggested: immediate or within a month for the switch.\n",
      "- Next steps: Guide Joe through online platform to transfer holdings.\n",
      "\n",
      "## Future Scope Discussed\n",
      "- Implementation of the investment switch to the AF Cap Mutual Fund.\n",
      "- Follow-up scheduled in a couple of weeks to review progress and address any questions.\n",
      "- Continuous monitoring and support offered to ensure smooth investment management.\n",
      "\n",
      "## Insights for Advisor to Convince Customer\n",
      "- Highlight the mutual fund’s balance of risk and steady returns, aligning with Joe’s moderate risk appetite.\n",
      "- Emphasize the simplicity and cost-effectiveness of switching, with no additional fees.\n",
      "- Reinforce the potential for gradual, consistent growth over time.\n",
      "- Offer ongoing support and periodic reviews to build trust and confidence.\n",
      "- Use positive language about the fund’s performance and future prospects to motivate timely action.\n"
     ]
    }
   ],
   "execution_count": 5
  },
  {
   "cell_type": "code",
   "execution_count": null,
   "id": "fe573ad90a87f2d7",
   "metadata": {},
   "outputs": [],
   "source": []
  }
 ],
 "metadata": {
  "kernelspec": {
   "display_name": "Python 3 (ipykernel)",
   "language": "python",
   "name": "python3"
  },
  "language_info": {
   "codemirror_mode": {
    "name": "ipython",
    "version": 3
   },
   "file_extension": ".py",
   "mimetype": "text/x-python",
   "name": "python",
   "nbconvert_exporter": "python",
   "pygments_lexer": "ipython3",
   "version": "3.12.10"
  }
 },
 "nbformat": 4,
 "nbformat_minor": 5
}
