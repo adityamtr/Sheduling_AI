{
 "cells": [
  {
   "cell_type": "code",
   "execution_count": 1,
   "id": "initial_id",
   "metadata": {
    "ExecuteTime": {
     "end_time": "2025-05-04T06:11:40.156870Z",
     "start_time": "2025-05-04T06:11:13.290043Z"
    },
    "collapsed": true
   },
   "outputs": [
    {
     "name": "stdout",
     "output_type": "stream",
     "text": [
      "hosted\n"
     ]
    }
   ],
   "source": [
    "from services.dialog_service import Agent_Orchestrator\n",
    "from services.agentic import Agent_Generate_Summary"
   ]
  },
  {
   "cell_type": "code",
   "execution_count": 2,
   "id": "27bb4570d5bcc253",
   "metadata": {
    "ExecuteTime": {
     "end_time": "2025-05-04T06:11:40.489682Z",
     "start_time": "2025-05-04T06:11:40.485179Z"
    }
   },
   "outputs": [],
   "source": [
    "query = \"\"\"\n",
    "** Customer **: Hi, I’m Joe. Can you help me with my investments?\n",
    "** Advisor **: Of course, Joe! I understand you’re looking for ways to grow your portfolio. Let’s start by reviewing what you currently have in place.\n",
    "** Customer **: Sure, I’ve been using moderate services so far. What do you recommend?\n",
    "** Advisor **: Great! Based on your profile, we can consider a few options that might suit your needs. Let’s look at a mutual fund, an ETF, and a PPS.\n",
    "** Customer **: Sounds good. What do you think of these options?\n",
    "** Advisor **: Absolutely! First up, we have the AF Cap mutual fund, which offers an annual return of 9%. It’s a solid choice for moderate risk.\n",
    "** Customer **: That sounds reasonable. What about the ETF?\n",
    "** Advisor **: The QAR ETF has an annual return of 13%, which is slightly higher than the mutual fund. It’s also more flexible and allows you to trade more frequently.\n",
    "** Customer **: And the PPS?\n",
    "** Advisor **: The AOX PPS offers an impressive annual return of 20%, making it a great option for those who want to maximize their returns. However, it comes with higher risks.\n",
    "** Customer **: I see. So, which one do you think would be best for me?\n",
    "** Advisor **: Given your interest in moderate risk and growth, the AF Cap mutual fund seems like a balanced choice. It offers a steady return without the volatility of the other options.\n",
    "** Customer **: That sounds perfect. How does it compare to my current investments?\n",
    "** Advisor **: Well, the AF Cap mutual fund aligns well with your existing investments. It’s a natural progression and could potentially offer better performance over time.\n",
    "** Customer **: I agree. What’s involved in switching to this fund?\n",
    "** Advisor **: Switching involves a simple process. We’ll just need to transfer your holdings into the AF Cap mutual fund. It’s a straightforward step.\n",
    "** Customer **: That sounds easy enough. When should I make this change?\n",
    "** Advisor **: Ideally, you could make the switch now or within the next month. This way, you can benefit from the new investment while keeping your current funds intact.\n",
    "** Customer **: Alright, let’s do it now. How do I proceed?\n",
    "** Advisor **: Perfect! I’ll guide you through the steps. First, we’ll log into our online platform, then you’ll select the AF Cap mutual fund as your new investment.\n",
    "** Customer **: Got it. Any fees involved?\n",
    "** Advisor **: There are no additional fees when you invest in the AF Cap mutual fund. It’s part of our service package, so you won’t pay extra.\n",
    "** Customer **: That’s great to hear. Is there anything else I should know before I make the switch?\n",
    "** Advisor **: Just a quick note that you might want to monitor your account periodically to ensure everything is working smoothly. If you have any questions, feel free to reach out.\n",
    "** Customer **: Thanks, I’ll keep that in mind. When can I expect to see the benefits of this investment?\n",
    "** Advisor **: With the AF Cap mutual fund, you should start seeing steady growth in your portfolio. Over time, this can lead to significant gains.\n",
    "** Customer **: That sounds promising. I’m excited to see where this leads.\n",
    "** Advisor **: Me too, Joe! I’m confident that the AF Cap mutual fund will be a wise choice for you. If you have any more questions or concerns, don’t hesitate to ask.\n",
    "** Customer **: I appreciate your confidence. I’m definitely considering this option.\n",
    "** Advisor **: Excellent decision! If you decide to go ahead, I’ll assist you with the transition. Let’s schedule a follow-up call in a couple of weeks to review your progress.\n",
    "** Customer **: Sounds good. Thank you for all your help today.\n",
    "** Advisor **: You’re very welcome, Joe! I’m glad I could help. Take care, and I’ll see you soon for the follow-up.\n",
    "\"\"\""
   ]
  },
  {
   "cell_type": "code",
   "execution_count": 3,
   "id": "5078605afdb39369",
   "metadata": {
    "ExecuteTime": {
     "end_time": "2025-05-04T06:11:40.522966Z",
     "start_time": "2025-05-04T06:11:40.517975Z"
    }
   },
   "outputs": [],
   "source": [
    "orchestrator = Agent_Orchestrator(prompt_func=Agent_Generate_Summary().prompt_func)"
   ]
  },
  {
   "cell_type": "code",
   "execution_count": 4,
   "id": "53b939349bc26748",
   "metadata": {
    "ExecuteTime": {
     "end_time": "2025-05-04T06:12:37.695605Z",
     "start_time": "2025-05-04T06:11:40.537075Z"
    }
   },
   "outputs": [
    {
     "name": "stderr",
     "output_type": "stream",
     "text": [
      "c:\\Users\\265532\\Desktop\\Hackathon\\myenv\\Lib\\site-packages\\urllib3\\connectionpool.py:1097: InsecureRequestWarning: Unverified HTTPS request is being made to host 'hostedqwen25mark1.loca.lt'. Adding certificate verification is strongly advised. See: https://urllib3.readthedocs.io/en/latest/advanced-usage.html#tls-warnings\n",
      "  warnings.warn(\n"
     ]
    },
    {
     "name": "stdout",
     "output_type": "stream",
     "text": [
      "### Meeting Summary\n",
      "\n",
      "#### Introduction and Current Situation\n",
      "- **Customer**: Joe\n",
      "- **Advisor**: Financial Advisor\n",
      "- **Discussion Topic**: Investment strategy and portfolio review\n",
      "\n",
      "#### Review of Current Investments\n",
      "- **Current Investments**: Moderate services (no specific details provided)\n",
      "- **Advisor's Recommendation**: Consider mutual fund, ETF, and PPS\n",
      "\n",
      "#### Options Reviewed\n",
      "1. **AF Cap Mutual Fund**\n",
      "   - **Annual Return**: 9%\n",
      "   - **Description**: Solid choice for moderate risk\n",
      "   - **Comparison**: Aligns well with existing investments\n",
      "   - **Future Scope**: Potential for steady growth over time\n",
      "\n",
      "2. **QAR ETF**\n",
      "   - **Annual Return**: 13%\n",
      "   - **Description**: More flexible and allows frequent trading\n",
      "   - **Comparison**: Slightly higher return compared to mutual fund\n",
      "\n",
      "3. **AOX PPS**\n",
      "   - **Annual Return**: 20%\n",
      "   - **Description**: Maximize returns but with higher risks\n",
      "   - **Comparison**: Best option for high-risk takers\n",
      "\n",
      "#### Decision and Recommendation\n",
      "- **Recommended Option**: AF Cap Mutual Fund\n",
      "  - **Reasoning**: Balanced choice, aligns with existing investments, offers steady growth\n",
      "\n",
      "#### Transition Process\n",
      "- **Switching to AF Cap Mutual Fund**:\n",
      "  - **Process**: Simple and straightforward\n",
      "  - **Timing**: Ideal to switch now or within the next month\n",
      "  - **Benefits**: Steady growth and potential for significant gains over time\n",
      "\n",
      "#### Questions and Concerns Addressed\n",
      "- **Fees**: No additional fees when investing in AF Cap Mutual Fund\n",
      "- **Monitoring**: Periodic monitoring recommended to ensure everything is working smoothly\n",
      "- **Questions**: Open to address any concerns or questions\n",
      "\n",
      "#### Next Steps\n",
      "- **Follow-Up Call**: Schedule a follow-up call in a couple of weeks to review progress\n",
      "\n",
      "---\n",
      "\n",
      "### Insights for the Financial Advisor\n",
      "\n",
      "1. **Risk Tolerance**: Understand the customer's comfort level with risk and recommend accordingly.\n",
      "2. **Portfolio Alignment**: Ensure the chosen investment aligns with the customer's existing portfolio.\n",
      "3. **Transparency**: Clearly communicate the benefits and risks of each option.\n",
      "4. **Service Package**: Highlight the value of the service package, such as no additional fees for the AF Cap Mutual Fund.\n",
      "5. **Regular Monitoring**: Emphasize the importance of regular monitoring to ensure the investment is performing as expected.\n",
      "6. **Future Growth**: Discuss the potential for future growth and how the chosen investment can contribute to long-term financial goals.\n",
      "\n",
      "### Future Scope\n",
      "- **Regular Reviews**: Schedule periodic reviews to assess the effectiveness of the chosen investment.\n",
      "- **Adjustments**: Be prepared to adjust the investment strategy based on the customer's financial situation and market conditions.\n",
      "- **Education**: Provide educational materials on the chosen investment options to empower the customer to make informed decisions.\n"
     ]
    }
   ],
   "source": [
    "res = orchestrator.run(query)\n",
    "print(res)"
   ]
  },
  {
   "cell_type": "code",
   "execution_count": null,
   "id": "fe573ad90a87f2d7",
   "metadata": {},
   "outputs": [],
   "source": []
  }
 ],
 "metadata": {
  "kernelspec": {
   "display_name": "myenv",
   "language": "python",
   "name": "python3"
  },
  "language_info": {
   "codemirror_mode": {
    "name": "ipython",
    "version": 3
   },
   "file_extension": ".py",
   "mimetype": "text/x-python",
   "name": "python",
   "nbconvert_exporter": "python",
   "pygments_lexer": "ipython3",
   "version": "3.12.10"
  }
 },
 "nbformat": 4,
 "nbformat_minor": 5
}
