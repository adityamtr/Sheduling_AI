{
 "cells": [
  {
   "cell_type": "code",
   "execution_count": 1,
   "id": "f9301a66-0557-4ca2-9f02-6be8122c9a1a",
   "metadata": {
    "ExecuteTime": {
     "end_time": "2025-05-08T19:58:17.499465Z",
     "start_time": "2025-05-08T19:58:17.487101Z"
    }
   },
   "outputs": [],
   "source": [
    "from pathlib import Path\n",
    "import os\n",
    "import sys\n",
    "\n",
    "root_path = os.getcwd().split('application_source')[0] + 'application_source'\n",
    "sys.path.append(root_path)"
   ]
  },
  {
   "cell_type": "code",
   "execution_count": 2,
   "id": "initial_id",
   "metadata": {
    "ExecuteTime": {
     "end_time": "2025-05-08T19:58:58.435102Z",
     "start_time": "2025-05-08T19:58:17.814443Z"
    },
    "collapsed": true,
    "jupyter": {
     "outputs_hidden": true
    }
   },
   "outputs": [
    {
     "name": "stdout",
     "output_type": "stream",
     "text": [
      "hosted\n"
     ]
    }
   ],
   "source": [
    "from services.dialog_service import Agent_Orchestrator\n",
    "from services.agentic import AgentGenerateKPIs\n",
    "import pandas as pd"
   ]
  },
  {
   "cell_type": "code",
   "execution_count": 3,
   "id": "3e0deb9ff422e582",
   "metadata": {
    "ExecuteTime": {
     "end_time": "2025-05-08T19:58:58.464691Z",
     "start_time": "2025-05-08T19:58:58.450941Z"
    }
   },
   "outputs": [],
   "source": [
    "inventory_mapping = pd.read_csv(Path(root_path) /'data/raw_2/inventory_mapping.csv')"
   ]
  },
  {
   "cell_type": "code",
   "execution_count": 4,
   "id": "a816a3ee",
   "metadata": {},
   "outputs": [
    {
     "data": {
      "text/html": [
       "<div>\n",
       "<style scoped>\n",
       "    .dataframe tbody tr th:only-of-type {\n",
       "        vertical-align: middle;\n",
       "    }\n",
       "\n",
       "    .dataframe tbody tr th {\n",
       "        vertical-align: top;\n",
       "    }\n",
       "\n",
       "    .dataframe thead th {\n",
       "        text-align: right;\n",
       "    }\n",
       "</style>\n",
       "<table border=\"1\" class=\"dataframe\">\n",
       "  <thead>\n",
       "    <tr style=\"text-align: right;\">\n",
       "      <th></th>\n",
       "      <th>Product Name</th>\n",
       "      <th>Product Type</th>\n",
       "      <th>Selling Price ($)</th>\n",
       "      <th>Inventory Count</th>\n",
       "      <th>Product Rating (/5)</th>\n",
       "    </tr>\n",
       "  </thead>\n",
       "  <tbody>\n",
       "    <tr>\n",
       "      <th>0</th>\n",
       "      <td>ProductA</td>\n",
       "      <td>Glossy Paper</td>\n",
       "      <td>15.0</td>\n",
       "      <td>120</td>\n",
       "      <td>4.2</td>\n",
       "    </tr>\n",
       "    <tr>\n",
       "      <th>1</th>\n",
       "      <td>ProductB</td>\n",
       "      <td>Matte Paper</td>\n",
       "      <td>12.5</td>\n",
       "      <td>85</td>\n",
       "      <td>4.0</td>\n",
       "    </tr>\n",
       "    <tr>\n",
       "      <th>2</th>\n",
       "      <td>ProductC</td>\n",
       "      <td>Recycled Paper</td>\n",
       "      <td>10.0</td>\n",
       "      <td>200</td>\n",
       "      <td>3.8</td>\n",
       "    </tr>\n",
       "  </tbody>\n",
       "</table>\n",
       "</div>"
      ],
      "text/plain": [
       "  Product Name    Product Type  Selling Price ($)  Inventory Count  \\\n",
       "0     ProductA    Glossy Paper               15.0              120   \n",
       "1     ProductB     Matte Paper               12.5               85   \n",
       "2     ProductC  Recycled Paper               10.0              200   \n",
       "\n",
       "   Product Rating (/5)  \n",
       "0                  4.2  \n",
       "1                  4.0  \n",
       "2                  3.8  "
      ]
     },
     "execution_count": 4,
     "metadata": {},
     "output_type": "execute_result"
    }
   ],
   "source": [
    "inventory_mapping.head(3)"
   ]
  },
  {
   "cell_type": "code",
   "execution_count": 5,
   "id": "1ed7081b2d3b3625",
   "metadata": {
    "ExecuteTime": {
     "end_time": "2025-05-08T19:58:58.502730Z",
     "start_time": "2025-05-08T19:58:58.485112Z"
    }
   },
   "outputs": [
    {
     "name": "stdout",
     "output_type": "stream",
     "text": [
      "|    | Product Name   | Product Type    |\n",
      "|---:|:---------------|:----------------|\n",
      "|  0 | ProductA       | Glossy Paper    |\n",
      "|  1 | ProductB       | Matte Paper     |\n",
      "|  2 | ProductC       | Recycled Paper  |\n",
      "|  3 | ProductD       | Cardstock Paper |\n",
      "|  4 | ProductE       | Bond Paper      |\n",
      "|  5 | ProductF       | Newsprint Paper |\n"
     ]
    }
   ],
   "source": [
    "products_markdown = inventory_mapping[['Product Name', 'Product Type']].to_markdown()\n",
    "print(products_markdown)"
   ]
  },
  {
   "cell_type": "code",
   "execution_count": 6,
   "id": "27bb4570d5bcc253",
   "metadata": {
    "ExecuteTime": {
     "end_time": "2025-05-08T19:58:58.528123Z",
     "start_time": "2025-05-08T19:58:58.520105Z"
    }
   },
   "outputs": [],
   "source": [
    "query = f\"\"\"\n",
    "Products table:\n",
    "\n",
    "{products_markdown}\n",
    "\n",
    "\"\"\"\n",
    "\n",
    "query += f\"\"\"\n",
    "Meeting Transcripts:\n",
    "\n",
    "**Meeting Start**: **Customer**: Hi Jim, how’s it going?\n",
    "\n",
    "**Sales Rep**: Hey Harvey! Everything’s good. I just wanted to check in on your paper supply situation. How can I assist you today?\n",
    "\n",
    "**Customer**: Hi Jim. We’re looking to increase our stock of Cardstock Paper. Do you have any deals or promotions available?\n",
    "\n",
    "**Sales Rep**: Absolutely, Harvey. Our Cardstock Paper (ProductD) has been very popular. We’re currently running a 10% discount on it as part of a limited-time offer. Would you like to take advantage of that?\n",
    "\n",
    "**Customer**: That sounds great. What’s the current status of the promotion?\n",
    "\n",
    "**Sales Rep**: It’s still active. We’ve had some delays in the past, but we’ve implemented new quality checks to ensure everything meets our high standards. How do you feel about that?\n",
    "\n",
    "**Customer**: I appreciate the transparency. So, what about delivery times? And do we need to place a minimum order to get bulk pricing?\n",
    "\n",
    "**Sales Rep**: Delivery times are usually within 5-7 business days. For bulk pricing, we require a minimum order of 500 units. We can certainly send you an updated pricing sheet if you’re interested.\n",
    "\n",
    "**Customer**: Sounds good. Can you send me that now?\n",
    "\n",
    "**Sales Rep**: Of course, Harvey. I’ll have it ready for you shortly. Is there anything else you’d like to know about these products?\n",
    "\n",
    "**Customer**: Actually, I’m curious about the sample process. How does that work?\n",
    "\n",
    "**Sales Rep**: No problem, Harvey. We can definitely send you some samples. Just let me know which sizes and quantities you’re interested in, and we’ll handle the rest.\n",
    "\n",
    "**Customer**: Perfect. Let’s go ahead and get those samples sent over. Thanks for your help!\n",
    "\n",
    "**Sales Rep**: Absolutely, Harvey. I’ll make sure to send them right away. If you have any other questions or concerns, don’t hesitate to reach out. I’ll follow up with you in a few days to see how you’re settling on the final decision.\n",
    "\n",
    "**Customer**: Sounds good. Thanks again, Jim.\n",
    "\n",
    "**Sales Rep**: You’re welcome, Harvey. Take care!\n",
    "\n",
    "**Meeting Close**: **Customer**: Hi Jim, I’ll be checking out some competitor quotes soon. Let me know if you need anything else.\n",
    "\n",
    "**Sales Rep**: Sure thing, Harvey. I’ll keep in touch. Have a great day!\n",
    "\n",
    "**Customer**: You too, Jim. See you around!\n",
    "\n",
    "**Sales Rep**: Absolutely, see you later!\n",
    "\"\"\""
   ]
  },
  {
   "cell_type": "code",
   "execution_count": 7,
   "id": "5078605afdb39369",
   "metadata": {
    "ExecuteTime": {
     "end_time": "2025-05-08T19:58:58.553591Z",
     "start_time": "2025-05-08T19:58:58.548813Z"
    }
   },
   "outputs": [],
   "source": [
    "orchestrator = Agent_Orchestrator(prompt_func=AgentGenerateKPIs().prompt_func, is_json_response = AgentGenerateKPIs().prompt_response_schema())"
   ]
  },
  {
   "cell_type": "code",
   "execution_count": 8,
   "id": "53b939349bc26748",
   "metadata": {
    "ExecuteTime": {
     "end_time": "2025-05-08T19:59:18.089086Z",
     "start_time": "2025-05-08T19:58:58.577839Z"
    }
   },
   "outputs": [
    {
     "name": "stdout",
     "output_type": "stream",
     "text": [
      "CompletionUsage(completion_tokens=47, prompt_tokens=1326, total_tokens=1373, completion_tokens_details=CompletionTokensDetails(accepted_prediction_tokens=0, audio_tokens=0, reasoning_tokens=0, rejected_prediction_tokens=0), prompt_tokens_details=PromptTokensDetails(audio_tokens=0, cached_tokens=0))\n",
      "{\"sentiment\":\"Positive\",\"products_marketed_list\":[\"ProductD (Cardstock Paper)\"],\"products_marketed\":1,\"products_interested_list\":[\"ProductD (Cardstock Paper)\"],\"products_interested\":1}\n"
     ]
    }
   ],
   "source": [
    "res = orchestrator.run(query)\n",
    "print(res)"
   ]
  },
  {
   "cell_type": "code",
   "execution_count": 9,
   "id": "fe573ad90a87f2d7",
   "metadata": {
    "ExecuteTime": {
     "end_time": "2025-05-08T19:59:18.116779Z",
     "start_time": "2025-05-08T19:59:18.104583Z"
    }
   },
   "outputs": [
    {
     "data": {
      "text/plain": [
       "str"
      ]
     },
     "execution_count": 9,
     "metadata": {},
     "output_type": "execute_result"
    }
   ],
   "source": [
    "type(res)"
   ]
  },
  {
   "cell_type": "code",
   "execution_count": 10,
   "id": "1270a2c22e319ee3",
   "metadata": {
    "ExecuteTime": {
     "end_time": "2025-05-08T19:59:18.180035Z",
     "start_time": "2025-05-08T19:59:18.176063Z"
    }
   },
   "outputs": [],
   "source": [
    "import json"
   ]
  },
  {
   "cell_type": "code",
   "execution_count": 12,
   "id": "520ead943975cb40",
   "metadata": {
    "ExecuteTime": {
     "end_time": "2025-05-08T19:59:18.208592Z",
     "start_time": "2025-05-08T19:59:18.201561Z"
    }
   },
   "outputs": [
    {
     "data": {
      "text/plain": [
       "{'sentiment': 'Positive',\n",
       " 'products_marketed_list': ['ProductD (Cardstock Paper)'],\n",
       " 'products_marketed': 1,\n",
       " 'products_interested_list': ['ProductD (Cardstock Paper)'],\n",
       " 'products_interested': 1}"
      ]
     },
     "execution_count": 12,
     "metadata": {},
     "output_type": "execute_result"
    }
   ],
   "source": [
    "json.loads(res)"
   ]
  },
  {
   "cell_type": "code",
   "execution_count": null,
   "id": "77f361694ba9d71c",
   "metadata": {
    "ExecuteTime": {
     "end_time": "2025-05-08T19:59:18.246207Z",
     "start_time": "2025-05-08T19:59:18.241762Z"
    }
   },
   "outputs": [],
   "source": []
  },
  {
   "cell_type": "code",
   "execution_count": null,
   "id": "d6a07373",
   "metadata": {},
   "outputs": [],
   "source": []
  }
 ],
 "metadata": {
  "kernelspec": {
   "display_name": "myenv",
   "language": "python",
   "name": "python3"
  },
  "language_info": {
   "codemirror_mode": {
    "name": "ipython",
    "version": 3
   },
   "file_extension": ".py",
   "mimetype": "text/x-python",
   "name": "python",
   "nbconvert_exporter": "python",
   "pygments_lexer": "ipython3",
   "version": "3.12.10"
  }
 },
 "nbformat": 4,
 "nbformat_minor": 5
}
