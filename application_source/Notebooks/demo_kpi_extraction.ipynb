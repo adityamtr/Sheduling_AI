{
 "cells": [
  {
   "cell_type": "code",
   "id": "f9301a66-0557-4ca2-9f02-6be8122c9a1a",
   "metadata": {
    "ExecuteTime": {
     "end_time": "2025-05-08T19:58:17.499465Z",
     "start_time": "2025-05-08T19:58:17.487101Z"
    }
   },
   "source": [
    "from pathlib import Path\n",
    "import os\n",
    "import sys\n",
    "\n",
    "root_path = os.getcwd().split('application_source')[0] + 'application_source'\n",
    "sys.path.append(root_path)"
   ],
   "outputs": [],
   "execution_count": 1
  },
  {
   "cell_type": "code",
   "id": "initial_id",
   "metadata": {
    "collapsed": true,
    "jupyter": {
     "outputs_hidden": true
    },
    "ExecuteTime": {
     "end_time": "2025-05-08T19:58:58.435102Z",
     "start_time": "2025-05-08T19:58:17.814443Z"
    }
   },
   "source": [
    "from services.dialog_service import Agent_Orchestrator\n",
    "from services.agentic import AgentGenerateKPIs\n",
    "import pandas as pd"
   ],
   "outputs": [
    {
     "name": "stderr",
     "output_type": "stream",
     "text": [
      "C:\\Users\\Acer\\PycharmProjects\\sheduling_agent\\.venv\\Lib\\site-packages\\tqdm\\auto.py:21: TqdmWarning: IProgress not found. Please update jupyter and ipywidgets. See https://ipywidgets.readthedocs.io/en/stable/user_install.html\n",
      "  from .autonotebook import tqdm as notebook_tqdm\n"
     ]
    },
    {
     "name": "stdout",
     "output_type": "stream",
     "text": [
      "local\n"
     ]
    },
    {
     "name": "stderr",
     "output_type": "stream",
     "text": [
      "Sliding Window Attention is enabled but not implemented for `sdpa`; unexpected results may be encountered.\n",
      "Loading checkpoint shards: 100%|██████████| 3/3 [00:24<00:00,  8.24s/it]\n"
     ]
    }
   ],
   "execution_count": 2
  },
  {
   "metadata": {
    "ExecuteTime": {
     "end_time": "2025-05-08T19:58:58.464691Z",
     "start_time": "2025-05-08T19:58:58.450941Z"
    }
   },
   "cell_type": "code",
   "source": "inventory_mapping = pd.read_csv(Path(root_path) /'data/raw_2/inventory_mapping.csv')",
   "id": "3e0deb9ff422e582",
   "outputs": [],
   "execution_count": 3
  },
  {
   "metadata": {
    "ExecuteTime": {
     "end_time": "2025-05-08T19:58:58.502730Z",
     "start_time": "2025-05-08T19:58:58.485112Z"
    }
   },
   "cell_type": "code",
   "source": [
    "products_markdown = inventory_mapping[['Product Name', 'Product Type']].to_markdown()\n",
    "print(products_markdown)"
   ],
   "id": "1ed7081b2d3b3625",
   "outputs": [
    {
     "name": "stdout",
     "output_type": "stream",
     "text": [
      "|    | Product Name   | Product Type    |\n",
      "|---:|:---------------|:----------------|\n",
      "|  0 | ProductA       | Glossy Paper    |\n",
      "|  1 | ProductB       | Matte Paper     |\n",
      "|  2 | ProductC       | Recycled Paper  |\n",
      "|  3 | ProductD       | Cardstock Paper |\n",
      "|  4 | ProductE       | Bond Paper      |\n",
      "|  5 | ProductF       | Newsprint Paper |\n"
     ]
    }
   ],
   "execution_count": 4
  },
  {
   "cell_type": "code",
   "id": "27bb4570d5bcc253",
   "metadata": {
    "ExecuteTime": {
     "end_time": "2025-05-08T19:58:58.528123Z",
     "start_time": "2025-05-08T19:58:58.520105Z"
    }
   },
   "source": [
    "query = f\"\"\"\n",
    "Products table:\n",
    "\n",
    "{products_markdown}\n",
    "\n",
    "\"\"\"\n",
    "\n",
    "query += f\"\"\"\n",
    "Meeting Transcripts:\n",
    "\n",
    "**Meeting Start**: **Customer**: Hi Jim, how’s it going?\n",
    "\n",
    "**Sales Rep**: Hey Harvey! Everything’s good. I just wanted to check in on your paper supply situation. How can I assist you today?\n",
    "\n",
    "**Customer**: Hi Jim. We’re looking to increase our stock of Cardstock Paper. Do you have any deals or promotions available?\n",
    "\n",
    "**Sales Rep**: Absolutely, Harvey. Our Cardstock Paper (ProductD) has been very popular. We’re currently running a 10% discount on it as part of a limited-time offer. Would you like to take advantage of that?\n",
    "\n",
    "**Customer**: That sounds great. What’s the current status of the promotion?\n",
    "\n",
    "**Sales Rep**: It’s still active. We’ve had some delays in the past, but we’ve implemented new quality checks to ensure everything meets our high standards. How do you feel about that?\n",
    "\n",
    "**Customer**: I appreciate the transparency. So, what about delivery times? And do we need to place a minimum order to get bulk pricing?\n",
    "\n",
    "**Sales Rep**: Delivery times are usually within 5-7 business days. For bulk pricing, we require a minimum order of 500 units. We can certainly send you an updated pricing sheet if you’re interested.\n",
    "\n",
    "**Customer**: Sounds good. Can you send me that now?\n",
    "\n",
    "**Sales Rep**: Of course, Harvey. I’ll have it ready for you shortly. Is there anything else you’d like to know about these products?\n",
    "\n",
    "**Customer**: Actually, I’m curious about the sample process. How does that work?\n",
    "\n",
    "**Sales Rep**: No problem, Harvey. We can definitely send you some samples. Just let me know which sizes and quantities you’re interested in, and we’ll handle the rest.\n",
    "\n",
    "**Customer**: Perfect. Let’s go ahead and get those samples sent over. Thanks for your help!\n",
    "\n",
    "**Sales Rep**: Absolutely, Harvey. I’ll make sure to send them right away. If you have any other questions or concerns, don’t hesitate to reach out. I’ll follow up with you in a few days to see how you’re settling on the final decision.\n",
    "\n",
    "**Customer**: Sounds good. Thanks again, Jim.\n",
    "\n",
    "**Sales Rep**: You’re welcome, Harvey. Take care!\n",
    "\n",
    "**Meeting Close**: **Customer**: Hi Jim, I’ll be checking out some competitor quotes soon. Let me know if you need anything else.\n",
    "\n",
    "**Sales Rep**: Sure thing, Harvey. I’ll keep in touch. Have a great day!\n",
    "\n",
    "**Customer**: You too, Jim. See you around!\n",
    "\n",
    "**Sales Rep**: Absolutely, see you later!\n",
    "\"\"\""
   ],
   "outputs": [],
   "execution_count": 5
  },
  {
   "cell_type": "code",
   "id": "5078605afdb39369",
   "metadata": {
    "ExecuteTime": {
     "end_time": "2025-05-08T19:58:58.553591Z",
     "start_time": "2025-05-08T19:58:58.548813Z"
    }
   },
   "source": "orchestrator = Agent_Orchestrator(prompt_func=AgentGenerateKPIs().prompt_func)",
   "outputs": [],
   "execution_count": 6
  },
  {
   "cell_type": "code",
   "id": "53b939349bc26748",
   "metadata": {
    "ExecuteTime": {
     "end_time": "2025-05-08T19:59:18.089086Z",
     "start_time": "2025-05-08T19:58:58.577839Z"
    }
   },
   "source": [
    "res = orchestrator.run(query)\n",
    "print(res)"
   ],
   "outputs": [
    {
     "name": "stdout",
     "output_type": "stream",
     "text": [
      "{\n",
      "  \"sentiment\": \"Positive\",\n",
      "  \"products_marketed_list\": [\"ProductD\"],\n",
      "  \"products_marketed\": 1,\n",
      "  \"products_interested_list\": [\"ProductD\"],\n",
      "  \"products_interested\": 1\n",
      "}\n"
     ]
    }
   ],
   "execution_count": 7
  },
  {
   "cell_type": "code",
   "id": "fe573ad90a87f2d7",
   "metadata": {
    "ExecuteTime": {
     "end_time": "2025-05-08T19:59:18.116779Z",
     "start_time": "2025-05-08T19:59:18.104583Z"
    }
   },
   "source": "type(res)",
   "outputs": [
    {
     "data": {
      "text/plain": [
       "str"
      ]
     },
     "execution_count": 8,
     "metadata": {},
     "output_type": "execute_result"
    }
   ],
   "execution_count": 8
  },
  {
   "metadata": {
    "ExecuteTime": {
     "end_time": "2025-05-08T19:59:18.180035Z",
     "start_time": "2025-05-08T19:59:18.176063Z"
    }
   },
   "cell_type": "code",
   "source": "import json",
   "id": "1270a2c22e319ee3",
   "outputs": [],
   "execution_count": 9
  },
  {
   "metadata": {
    "ExecuteTime": {
     "end_time": "2025-05-08T19:59:18.208592Z",
     "start_time": "2025-05-08T19:59:18.201561Z"
    }
   },
   "cell_type": "code",
   "source": "json.loads(res)",
   "id": "520ead943975cb40",
   "outputs": [
    {
     "data": {
      "text/plain": [
       "{'sentiment': 'Positive',\n",
       " 'products_marketed_list': ['ProductD'],\n",
       " 'products_marketed': 1,\n",
       " 'products_interested_list': ['ProductD'],\n",
       " 'products_interested': 1}"
      ]
     },
     "execution_count": 10,
     "metadata": {},
     "output_type": "execute_result"
    }
   ],
   "execution_count": 10
  },
  {
   "metadata": {
    "ExecuteTime": {
     "end_time": "2025-05-08T19:59:18.246207Z",
     "start_time": "2025-05-08T19:59:18.241762Z"
    }
   },
   "cell_type": "code",
   "source": "",
   "id": "77f361694ba9d71c",
   "outputs": [],
   "execution_count": null
  }
 ],
 "metadata": {
  "kernelspec": {
   "display_name": "Python 3 (ipykernel)",
   "language": "python",
   "name": "python3"
  },
  "language_info": {
   "codemirror_mode": {
    "name": "ipython",
    "version": 3
   },
   "file_extension": ".py",
   "mimetype": "text/x-python",
   "name": "python",
   "nbconvert_exporter": "python",
   "pygments_lexer": "ipython3",
   "version": "3.12.10"
  }
 },
 "nbformat": 4,
 "nbformat_minor": 5
}
