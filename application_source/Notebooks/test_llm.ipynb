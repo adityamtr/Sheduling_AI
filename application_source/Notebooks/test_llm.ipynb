{
 "cells": [
  {
   "cell_type": "code",
   "id": "initial_id",
   "metadata": {
    "collapsed": true,
    "ExecuteTime": {
     "end_time": "2025-05-04T03:45:00.236618Z",
     "start_time": "2025-05-04T03:44:55.927167Z"
    }
   },
   "source": [
    "from transformers import AutoTokenizer, AutoModelForCausalLM, BitsAndBytesConfig\n",
    "import torch\n",
    "from pathlib import Path\n",
    "import os\n",
    "import sys"
   ],
   "outputs": [
    {
     "name": "stderr",
     "output_type": "stream",
     "text": [
      "C:\\Users\\Acer\\PycharmProjects\\sheduling_agent\\.venv\\Lib\\site-packages\\tqdm\\auto.py:21: TqdmWarning: IProgress not found. Please update jupyter and ipywidgets. See https://ipywidgets.readthedocs.io/en/stable/user_install.html\n",
      "  from .autonotebook import tqdm as notebook_tqdm\n"
     ]
    }
   ],
   "execution_count": 1
  },
  {
   "metadata": {
    "ExecuteTime": {
     "end_time": "2025-05-04T03:45:18.748431Z",
     "start_time": "2025-05-04T03:45:18.744205Z"
    }
   },
   "cell_type": "code",
   "source": [
    "print(torch.cuda.is_available())  # Should return True\n",
    "print(torch.cuda.get_device_name(0))  # Should show your GPU name\n",
    "device = \"cuda\" if torch.cuda.is_available() else \"cpu\"\n",
    "print(device)\n",
    "root_path = Path(os.getcwd().split('application_source')[0] + 'application_source')\n",
    "print(root_path)"
   ],
   "id": "9cf4717bb67c0110",
   "outputs": [
    {
     "name": "stdout",
     "output_type": "stream",
     "text": [
      "True\n",
      "NVIDIA GeForce GTX 1660 Ti\n",
      "cuda\n",
      "C:\\Users\\Acer\\PycharmProjects\\sheduling_agent\\application_source\n"
     ]
    }
   ],
   "execution_count": 4
  },
  {
   "metadata": {
    "ExecuteTime": {
     "end_time": "2025-05-04T03:45:27.918952Z",
     "start_time": "2025-05-04T03:45:27.913012Z"
    }
   },
   "cell_type": "code",
   "source": [
    "model_id = Path.joinpath(root_path, \"models/Qwen/Qwen2.5-3B-Instruct\")\n",
    "model_id"
   ],
   "id": "76b775eef884d9f7",
   "outputs": [
    {
     "data": {
      "text/plain": [
       "WindowsPath('C:/Users/Acer/PycharmProjects/sheduling_agent/application_source/models/Qwen/Qwen2.5-3B-Instruct')"
      ]
     },
     "execution_count": 5,
     "metadata": {},
     "output_type": "execute_result"
    }
   ],
   "execution_count": 5
  },
  {
   "metadata": {
    "ExecuteTime": {
     "end_time": "2025-05-04T03:46:06.715277Z",
     "start_time": "2025-05-04T03:45:45.937248Z"
    }
   },
   "cell_type": "code",
   "source": [
    "# model_id = Path(\"models\\\\Qwen\\\\Qwen2.5-3B-Instruct\")\n",
    "model_id = Path.joinpath(root_path, \"models/Qwen/Qwen2.5-3B-Instruct\")\n",
    "\n",
    "tokenizer = AutoTokenizer.from_pretrained(model_id, trust_remote_code=True)\n",
    "\n",
    "bnb_config = BitsAndBytesConfig(\n",
    "    load_in_4bit=True,\n",
    "    bnb_4bit_compute_dtype=torch.float16,  # <-- match input dtype\n",
    "    bnb_4bit_use_double_quant=False,\n",
    "    bnb_4bit_quant_type=\"nf4\"  # or \"fp4\" if needed\n",
    ")\n",
    "\n",
    "model = AutoModelForCausalLM.from_pretrained(model_id,\n",
    "                                             quantization_config=bnb_config,\n",
    "                                             device_map=\"auto\",\n",
    "                                             trust_remote_code=True)\n",
    "model.eval()"
   ],
   "id": "85bf03aa23451902",
   "outputs": [
    {
     "name": "stderr",
     "output_type": "stream",
     "text": [
      "Sliding Window Attention is enabled but not implemented for `sdpa`; unexpected results may be encountered.\n",
      "Loading checkpoint shards: 100%|██████████| 3/3 [00:17<00:00,  5.95s/it]\n"
     ]
    },
    {
     "data": {
      "text/plain": [
       "Qwen2ForCausalLM(\n",
       "  (model): Qwen2Model(\n",
       "    (embed_tokens): Embedding(151936, 2048)\n",
       "    (layers): ModuleList(\n",
       "      (0-35): 36 x Qwen2DecoderLayer(\n",
       "        (self_attn): Qwen2Attention(\n",
       "          (q_proj): Linear4bit(in_features=2048, out_features=2048, bias=True)\n",
       "          (k_proj): Linear4bit(in_features=2048, out_features=256, bias=True)\n",
       "          (v_proj): Linear4bit(in_features=2048, out_features=256, bias=True)\n",
       "          (o_proj): Linear4bit(in_features=2048, out_features=2048, bias=False)\n",
       "        )\n",
       "        (mlp): Qwen2MLP(\n",
       "          (gate_proj): Linear4bit(in_features=2048, out_features=11008, bias=False)\n",
       "          (up_proj): Linear4bit(in_features=2048, out_features=11008, bias=False)\n",
       "          (down_proj): Linear4bit(in_features=11008, out_features=2048, bias=False)\n",
       "          (act_fn): SiLU()\n",
       "        )\n",
       "        (input_layernorm): Qwen2RMSNorm((2048,), eps=1e-06)\n",
       "        (post_attention_layernorm): Qwen2RMSNorm((2048,), eps=1e-06)\n",
       "      )\n",
       "    )\n",
       "    (norm): Qwen2RMSNorm((2048,), eps=1e-06)\n",
       "    (rotary_emb): Qwen2RotaryEmbedding()\n",
       "  )\n",
       "  (lm_head): Linear(in_features=2048, out_features=151936, bias=False)\n",
       ")"
      ]
     },
     "execution_count": 6,
     "metadata": {},
     "output_type": "execute_result"
    }
   ],
   "execution_count": 6
  },
  {
   "metadata": {
    "ExecuteTime": {
     "end_time": "2025-05-04T03:46:19.085794Z",
     "start_time": "2025-05-04T03:46:19.081385Z"
    }
   },
   "cell_type": "code",
   "source": "print(model.hf_device_map)",
   "id": "b962e99cbb7f1939",
   "outputs": [
    {
     "name": "stdout",
     "output_type": "stream",
     "text": [
      "{'': 0}\n"
     ]
    }
   ],
   "execution_count": 7
  },
  {
   "metadata": {
    "ExecuteTime": {
     "end_time": "2025-05-04T03:05:30.279346Z",
     "start_time": "2025-05-04T03:05:30.273954Z"
    }
   },
   "cell_type": "code",
   "source": [
    "def forward(context):\n",
    "\n",
    "    text = tokenizer.apply_chat_template(\n",
    "    context,\n",
    "    tokenize=False,\n",
    "    add_generation_prompt=True\n",
    "    )\n",
    "    model_inputs = tokenizer([text], return_tensors=\"pt\").to(model.device)\n",
    "\n",
    "    generated_ids = model.generate(\n",
    "        **model_inputs,\n",
    "        max_new_tokens=8000,                  # <-- use greedy decoding (not beam search)\n",
    "        temperature=0.001,              # <-- has no effect if do_sample=False\n",
    "        top_p=1.0,\n",
    "    )\n",
    "    generated_ids = [\n",
    "        output_ids[len(input_ids):] for input_ids, output_ids in zip(model_inputs.input_ids, generated_ids)\n",
    "    ]\n",
    "\n",
    "    response = tokenizer.batch_decode(generated_ids, skip_special_tokens=True)[0]\n",
    "    return response"
   ],
   "id": "3d1d0120a6a410c3",
   "outputs": [],
   "execution_count": 5
  },
  {
   "metadata": {
    "ExecuteTime": {
     "end_time": "2025-05-04T03:05:30.315326Z",
     "start_time": "2025-05-04T03:05:30.310734Z"
    }
   },
   "cell_type": "code",
   "source": [
    "def query_agent(query):\n",
    "    messages = [\n",
    "        {\"role\": \"system\", \"content\": \"You are a helpful assistant.\"},\n",
    "        {\"role\": \"user\", \"content\": query}\n",
    "    ]\n",
    "    return messages"
   ],
   "id": "d1a33667a1cb23e6",
   "outputs": [],
   "execution_count": 6
  },
  {
   "metadata": {
    "ExecuteTime": {
     "end_time": "2025-05-04T03:06:30.967522Z",
     "start_time": "2025-05-04T03:05:30.358176Z"
    }
   },
   "cell_type": "code",
   "source": [
    "query = \"Generate a meeting recap transcript beetween an advisor and customr where advisor is trying to sell 3 stock related products, genrate at max 10 conversation withing a session and advisor conviences cusomer to puchase at least one return conersation only\"\n",
    "\n",
    "res = forward(query_agent(query))\n",
    "print(res)"
   ],
   "id": "9fb93f9350f3994d",
   "outputs": [
    {
     "name": "stdout",
     "output_type": "stream",
     "text": [
      "**Advisor:** Hi John, it's great to see you again. I hope you're doing well.\n",
      "\n",
      "**Customer:** Hi, yes, I am. How are you?\n",
      "\n",
      "**Advisor:** I'm doing well, thanks. I was wondering if you had a chance to review the reports we sent out last week? We have some new products that might interest you.\n",
      "\n",
      "**Customer:** Sure, I did look at them. What are they?\n",
      "\n",
      "**Advisor:** Well, we have three different stock-related products that could potentially benefit your portfolio. Let’s go through them quickly.\n",
      "\n",
      "**Customer:** Okay, let’s do it.\n",
      "\n",
      "**Advisor:** Great. The first one is our Growth Accelerator Package. It includes a detailed analysis of five high-growth stocks, along with a customized investment strategy. This package can help you identify and capitalize on emerging trends in the market.\n",
      "\n",
      "**Customer:** That sounds interesting. What kind of trends does it cover?\n",
      "\n",
      "**Advisor:** It covers a variety of sectors including technology, healthcare, and renewable energy. We analyze the latest news, financials, and market trends to provide insights into which companies are poised for significant growth.\n",
      "\n",
      "**Customer:** That sounds like a lot of information. Is there a cost involved?\n",
      "\n",
      "**Advisor:** Yes, the Growth Accelerator Package costs $500. However, if you decide to purchase this, we can offer you a discount on the second product, the Market Navigator.\n",
      "\n",
      "**Customer:** Hmm, I’m not sure if I need all that. Can you give me a quick rundown of the other two products?\n",
      "\n",
      "**Advisor:** Of course. The second product is the Market Navigator. It provides real-time market data and alerts for up to ten key indices and sectors. This tool can help you stay ahead of market movements and make informed decisions.\n",
      "\n",
      "**Customer:** That sounds useful. And what about the third product?\n",
      "\n",
      "**Advisor:** The third product is our Trendsetter Portfolio. It’s a diversified portfolio of ten stocks across various sectors, designed to balance risk and reward. This portfolio is managed by our team to ensure steady growth over time.\n",
      "\n",
      "**Customer:** So, I get the feeling that these products are quite comprehensive. Do you think any of them would be particularly beneficial right now?\n",
      "\n",
      "**Advisor:** Absolutely. Each product offers unique value. For example, the Growth Accelerator Package can help you spot opportunities in fast-growing sectors, while the Market Navigator keeps you updated on market trends. The Trendsetter Portfolio, on the other hand, provides a balanced approach to diversification.\n",
      "\n",
      "**Customer:** I see. So, if I were to pick just one, which one would you recommend?\n",
      "\n",
      "**Advisor:** It really depends on your specific needs. If you’re looking to invest in specific growth areas, the Growth Accelerator Package might be more suitable. If you want a tool to keep you informed about market movements, the Market Navigator could be a good choice. And if you prefer a balanced portfolio, the Trendsetter Portfolio might be ideal.\n",
      "\n",
      "**Customer:** Alright, I’ll think about it. But I appreciate your time and effort in explaining everything.\n",
      "\n",
      "**Advisor:** No problem at all. Feel free to reach out if you have any questions or if you decide to proceed. I’d love to help you make the best investment decisions possible.\n",
      "\n",
      "**Customer:** Thanks, I will. Have a great day!\n",
      "\n",
      "**Advisor:** You too! Take care.\n"
     ]
    }
   ],
   "execution_count": 7
  },
  {
   "metadata": {},
   "cell_type": "code",
   "outputs": [],
   "execution_count": null,
   "source": "",
   "id": "68968e2571f7615"
  },
  {
   "metadata": {},
   "cell_type": "code",
   "outputs": [],
   "execution_count": null,
   "source": "",
   "id": "fdec26ac04ccd1a4"
  },
  {
   "metadata": {},
   "cell_type": "code",
   "outputs": [],
   "execution_count": null,
   "source": "",
   "id": "fa1ff5f450c4bbf9"
  },
  {
   "metadata": {},
   "cell_type": "code",
   "source": [
    "prompt = \"Generate a meeting recap transcript beetween an advisor and customr where advisor is trying to sell 3 stock related products, genrate at max 10 conversation withing a session and advisor conviences cusomer to puchase at least one return conersation only\"\n",
    "inputs = tokenizer(prompt, return_tensors=\"pt\").to(device)\n",
    "\n",
    "with torch.no_grad():\n",
    "    outputs = model.generate(**inputs, do_sample=False, max_new_tokens=8000)\n",
    "    response = tokenizer.decode(outputs[0], skip_special_tokens=True)"
   ],
   "id": "ecec2af5fda46edc",
   "outputs": [],
   "execution_count": null
  },
  {
   "metadata": {},
   "cell_type": "code",
   "source": "print(response)",
   "id": "832108e3815de340",
   "outputs": [],
   "execution_count": null
  },
  {
   "metadata": {},
   "cell_type": "code",
   "source": "print(\"\"\"\\nHere\\'s a structured format for the conversation between the advisor and the customer:\\n\\n**Customer:** [Name]  \\n**Advisor:** Trinh\\n\\n---\\n\\n**Customer:** Hi Trinh, how are you today?\\n\\n**Advisor Trinh:** Hi [Name], I\\'m doing great, thanks! How are you?\\n\\n**Customer:** I\\'m good, thanks. So, Trinh, what can you do for me today?\\n\\n**Advisor Trinh: **Great question! Let\\'s start with our first product - the \"Daily Gain\" Stock Alert. This is a daily email that highlights stocks showing strong positive momentum. It\\'s perfect for those looking to stay ahead of the market.\\n\\n**Customer:** That sounds interesting. What does it include?\\n\\n**Advisor Trinh:** Well, it includes the top 5 stocks with the highest positive momentum, along with a brief analysis of why they\\'re performing well. You\\'ll also get tips on how to capitalize on this momentum in your portfolio.\\n\\n**Customer:** Okay, that seems useful. How much is it?\\n\\n**Advisor Trinh:** The subscription fee is $29 per month. But if you sign up now, we can offer you a special introductory price of $19 for the first month.\\n\\n**Customer:** Hmm, that\\'s not bad. How often will I receive these alerts?\\n\\n**Advisor Trinh:** Once a day, right to your inbox. And remember, you can unsubscribe anytime if you change your mind.\\n\\n**Customer:** Alright, I\\'ll give it a try. What\\'s next?\\n\\n**Advisor Trinh:** Great! Our second product is the \"Market Pulse\" Stock Report. This is a weekly report that provides detailed analysis of key sectors and stocks, helping you make informed investment decisions.\\n\\n**Customer:** Sounds like it could be helpful. How much is it?\\n\\n**Advisor Trinh:** For the full year, it\\'s $49. Again, we can offer you a special introductory price of $39 for the first year.\\n\\n**Customer:** That\\'s still better than the other options. How often will I receive these reports?\\n\\n**Advisor Trinh:** Weekly emails sent directly to your inbox, covering all the important sectors and stocks.\\n\\n**Customer:** Alright, I\\'ll consider it. What\\'s the last option?\\n\\n**Advisor Trinh:** Our final product is the \"Stock Master\" Portfolio Management Service. This service offers personalized stock recommendations based on your investment goals and risk tolerance.\\n\\n**Customer:** That sounds really comprehensive. How much is it?\\n\\n**Advisor Trinh:** For the full year, it\\'s $99. We can offer you a special introductory price of $79 for the first year.\\n\\n**Customer:** Wow, that\\'s quite a bit more expensive. Is there any way to get a discount?\\n\\n**Advisor Trinh:** Absolutely! If you commit to signing up for the full year, we can offer you a bulk discount of $10 off the annual price.\\n\\n**Customer:** Alright, I\\'ll think about it. Thanks for explaining everything so clearly.\\n\\n**Advisor Trinh:** Of course, [Name]. Remember, you can always reach out if you have any questions or need further assistance. I look forward to hearing from you soon.\\n\\n**Customer:** Sure thing, Trinh. Talk to you later.\\n\\n**Advisor Trinh:** Definitely, [Name]. Have a great day!\\n\\n---\\n\\nAfter several rounds of discussion, if Trinh convinces the customer to purchase at least one of the three products, the conversation would continue as follows:\\n\\n**Customer:** Trinh, I\\'m leaning towards the \"Daily Gain\" Stock Alert. Can you show me some examples of the stocks included?\\n\\n**Advisor Trinh:** Absolutely, [Name]. Here are a few examples from the past week:\\n- **Company A**: Showing strong growth in earnings and revenue, with potential for further expansion.\\n- **Company B**: High liquidity and low volatility, making it a solid addition to your portfolio.\\n- **Company C**: Rising dividends and increasing market share, indicating strong future potential.\\n\\n**Customer:** Those sound promising. How do I sign up?\\n\\n**Advisor Trinh:** Simply click on the link provided in the email, and you\\'ll be taken through the subscription process. If you have any issues, feel free to reach out to our support team.\\n\\n**Customer:** Perfect, thank you, Trinh.\\n\\n**Advisor Trinh:** You\\'re welcome, [Name]. If you decide to go with the \"Daily Gain\" Stock Alert, I\\'ll send you a confirmation email shortly.\\n\\n**Customer:** Great, thanks again.\\n\\n**Advisor Trinh:** You\\'re welcome. If you have any other questions or need further assistance, don\\'t hesitate to reach out.\\n\\n**Customer:** Will do, Trinh. Talk to you soon.\\n\\n**Advisor Trinh:** Definitely, [Name]. Have a great day!  \\n**Customer:** You too, Trinh.\\n\\n---\\n\\nIf the customer decides to purchase, the conversation would then proceed with the subscription confirmation and any additional details needed for setup. If the customer declines, the conversation would end with a polite goodbye.'\"\"\")",
   "id": "42fcb7a93735a216",
   "outputs": [],
   "execution_count": null
  },
  {
   "metadata": {},
   "cell_type": "code",
   "source": "import sys",
   "id": "3dff84b46d930e16",
   "outputs": [],
   "execution_count": null
  },
  {
   "metadata": {},
   "cell_type": "code",
   "source": [
    "prompt = \"Generate a conversation beetween an advisor and customr where advisor is trinh to sell 3 stock related products, geerate at least 10 conversation withing a session and advisor conviences cusomer to puchase at least one\"\n",
    "input_ids = tokenizer(prompt, return_tensors=\"pt\").to(device).input_ids\n",
    "\n",
    "# Generation settings\n",
    "max_new_tokens = 8000\n",
    "stop_token = tokenizer.eos_token_id\n",
    "\n",
    "# Streaming loop\n",
    "print(\"\\nResponse:\\n\")\n",
    "generated = input_ids\n",
    "for _ in range(max_new_tokens):\n",
    "    with torch.no_grad():\n",
    "        outputs = model(generated, do_sample=False)\n",
    "        logits = outputs.logits[:, -1, :]\n",
    "        next_token_id = torch.argmax(logits, dim=-1).unsqueeze(0)\n",
    "\n",
    "    generated = torch.cat([generated, next_token_id], dim=1)\n",
    "\n",
    "    # Decode and print the newly generated token\n",
    "    new_token = tokenizer.decode(next_token_id[0])\n",
    "    if next_token_id[0].item() == 151643:\n",
    "        break\n",
    "    sys.stdout.write(new_token)\n",
    "    sys.stdout.flush()\n",
    "\n",
    "\n",
    "print()"
   ],
   "id": "3512d77ac3d412d7",
   "outputs": [],
   "execution_count": null
  },
  {
   "metadata": {},
   "cell_type": "code",
   "source": "stop_token",
   "id": "840bcbb53316f29",
   "outputs": [],
   "execution_count": null
  },
  {
   "metadata": {},
   "cell_type": "code",
   "source": "import pandas as pd",
   "id": "520b79af15642e95",
   "outputs": [],
   "execution_count": null
  },
  {
   "metadata": {},
   "cell_type": "code",
   "source": "pd.DataFrame({\"id\":tokenizer.all_special_ids, \"token\":tokenizer.all_special_tokens})",
   "id": "60a1777736ace19b",
   "outputs": [],
   "execution_count": null
  },
  {
   "metadata": {},
   "cell_type": "code",
   "source": "",
   "id": "37945d44783e5da0",
   "outputs": [],
   "execution_count": null
  }
 ],
 "metadata": {
  "kernelspec": {
   "display_name": "Python 3",
   "language": "python",
   "name": "python3"
  },
  "language_info": {
   "codemirror_mode": {
    "name": "ipython",
    "version": 2
   },
   "file_extension": ".py",
   "mimetype": "text/x-python",
   "name": "python",
   "nbconvert_exporter": "python",
   "pygments_lexer": "ipython2",
   "version": "2.7.6"
  }
 },
 "nbformat": 4,
 "nbformat_minor": 5
}
