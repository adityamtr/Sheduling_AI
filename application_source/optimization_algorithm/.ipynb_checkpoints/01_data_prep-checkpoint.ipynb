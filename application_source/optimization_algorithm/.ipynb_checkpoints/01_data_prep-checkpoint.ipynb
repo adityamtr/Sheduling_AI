{
 "cells": [
  {
   "cell_type": "code",
   "execution_count": 1,
   "id": "0fe4537b-81c5-4018-9999-35425a6635ee",
   "metadata": {},
   "outputs": [
    {
     "name": "stdout",
     "output_type": "stream",
     "text": [
      "['enhanced_sales_meeting_history.csv', 'inventory_mapping.csv', 'customer_data.csv', 'customer_to_sales_rep.csv']\n",
      "/Users/rumszz/Documents/GitHubRepos/Shceduling_AI/application_source/data/raw_2\n"
     ]
    }
   ],
   "source": [
    "import os\n",
    "\n",
    "\n",
    "folder_path = '/Users/rumszz/Documents/GitHubRepos/Shceduling_AI/application_source/data/raw_2'\n",
    "\n",
    "files = os.listdir(folder_path)\n",
    "\n",
    "print(files)\n",
    "\n",
    "# # Change working directory\n",
    "os.chdir(folder_path)\n",
    "# # Check current working directory\n",
    "print(os.getcwd())"
   ]
  },
  {
   "cell_type": "code",
   "execution_count": null,
   "id": "4ad68faf-9d3a-4c40-86ff-b6f74e68e766",
   "metadata": {},
   "outputs": [],
   "source": [
    "#pip install pandas\n"
   ]
  },
  {
   "cell_type": "code",
   "execution_count": null,
   "id": "2d3a55b6-1600-45f9-9a1c-7f2a64dd9200",
   "metadata": {},
   "outputs": [],
   "source": [
    "#pip install scikit-learn"
   ]
  },
  {
   "cell_type": "code",
   "execution_count": 2,
   "id": "78d2023b-58e7-4832-b386-31b9f673f75b",
   "metadata": {},
   "outputs": [],
   "source": [
    "import pandas as pd\n",
    "from sklearn.preprocessing import MinMaxScaler"
   ]
  },
  {
   "cell_type": "code",
   "execution_count": 3,
   "id": "0a1ac893-138e-4ac8-9782-b35c09b425fb",
   "metadata": {},
   "outputs": [],
   "source": [
    "today = pd.to_datetime(\"2025-05-08\")"
   ]
  },
  {
   "cell_type": "code",
   "execution_count": 13,
   "id": "1af25931-8993-4ba0-a180-9a0d5a62d1e0",
   "metadata": {},
   "outputs": [],
   "source": [
    "\n",
    "\n",
    "# Load customer data and meeting history\n",
    "customer_df = pd.read_csv(\"customer_data.csv\")\n",
    "meeting_df = pd.read_csv(\"enhanced_sales_meeting_history.csv\")"
   ]
  },
  {
   "cell_type": "code",
   "execution_count": 14,
   "id": "f7ad0873-5151-4b40-8804-3c8504e0d803",
   "metadata": {},
   "outputs": [],
   "source": [
    "# 1. Compute last meeting date per customer\n",
    "\n",
    "meeting_df[\"Meeting Timestamp\"] = pd.to_datetime(\n",
    "    meeting_df[\"Meeting Timestamp\"], format=\"%Y-%m-%d %I:%M %p\"\n",
    ")\n",
    "latest_meetings = meeting_df.groupby(\"Customer ID\")[\"Meeting Timestamp\"].max().reset_index()\n",
    "latest_meetings.columns = [\"Customer ID\", \"Last Meeting Date\"]\n",
    "latest_meetings[\"Last Meeting Date\"] = pd.to_datetime(latest_meetings[\"Last Meeting Date\"])"
   ]
  },
  {
   "cell_type": "code",
   "execution_count": 15,
   "id": "205787b5-7b07-44e4-ab4f-d7ef636cffc0",
   "metadata": {},
   "outputs": [],
   "source": [
    "# 2. Merge with customer data\n",
    "customer_df = customer_df.drop(['Last Meeting Date'], axis=1)\n",
    "customer_df[\"Last Purchase Date\"] = pd.to_datetime(customer_df[\"Last Purchase Date\"], format=\"%Y-%m-%d\")\n",
    "df = customer_df.merge(latest_meetings, on=\"Customer ID\", how=\"left\")"
   ]
  },
  {
   "cell_type": "code",
   "execution_count": 16,
   "id": "0e7715f0-ab8d-4b1e-8a44-2bd5c00f6d26",
   "metadata": {},
   "outputs": [],
   "source": [
    "# 3. Compute days since last meeting and purchase\n",
    "\n",
    "df[\"Days Since Last Meeting\"] = (today - df[\"Last Meeting Date\"]).dt.days\n",
    "df[\"Days Since Last Purchase\"] = (today - df[\"Last Purchase Date\"]).dt.days\n"
   ]
  },
  {
   "cell_type": "code",
   "execution_count": 17,
   "id": "d02f5053-c12a-4f5d-abe3-ef64bc1429da",
   "metadata": {},
   "outputs": [],
   "source": [
    "# 4. Merge in recent meeting outcomes\n",
    "latest_outcomes = meeting_df.sort_values(\"Meeting Timestamp\").groupby(\"Customer ID\").tail(1)[[\"Customer ID\", \"Meeting Outcome\"]]\n",
    "df = df.merge(latest_outcomes, on=\"Customer ID\", how=\"left\")\n",
    "df[\"Needs Follow-up\"] = df[\"Meeting Outcome\"].apply(lambda x: 1 if \"follow-up\" in str(x).lower() or \"approval\" in str(x).lower() else 0)"
   ]
  },
  {
   "cell_type": "code",
   "execution_count": 18,
   "id": "0d88bcf2-f35a-4d04-b6d3-d53bb256858a",
   "metadata": {},
   "outputs": [],
   "source": [
    "# 5. Normalize scoring columns\n",
    "scaler = MinMaxScaler()\n",
    "score_components = df[[\"Days Since Last Meeting\", \"Days Since Last Purchase\", \"Purchase Freq/Q\", \"Last 12M Revenue ($)\", \"Needs Follow-up\"]].copy()\n",
    "score_components[\"Purchase Freq/Q\"] = 1 / (score_components[\"Purchase Freq/Q\"] + 1e-5)  # Invert freq so low = higher score\n",
    "score_components[\"Last 12M Revenue ($)\"] = 1 / (score_components[\"Last 12M Revenue ($)\"] + 1e-5)  # Invert to prioritize low-engaged high-value customers\n",
    "normalized = pd.DataFrame(scaler.fit_transform(score_components), columns=score_components.columns)"
   ]
  },
  {
   "cell_type": "code",
   "execution_count": 19,
   "id": "140ea938-568c-4c35-aaa1-195c2f2a5f33",
   "metadata": {},
   "outputs": [],
   "source": [
    "# 6. Apply weights and compute priority score\n",
    "weights = {\n",
    "    \"Days Since Last Meeting\": 0.3,\n",
    "    \"Days Since Last Purchase\": 0.3,\n",
    "    \"Purchase Freq/Q\": 0.1,\n",
    "    \"Last 12M Revenue ($)\": 0.2,\n",
    "    \"Needs Follow-up\": 0.1\n",
    "}\n",
    "df[\"Priority Score\"] = sum(normalized[col] * weight for col, weight in weights.items())"
   ]
  },
  {
   "cell_type": "code",
   "execution_count": 20,
   "id": "ee7418e5-1ab9-4a2f-b02d-742b57052ec7",
   "metadata": {},
   "outputs": [],
   "source": [
    "# 7. For each sales rep, get top 2 customers\n",
    "top_priority = df.sort_values([\"Sales Rep ID\", \"Priority Score\"], ascending=[True, False]) \\\n",
    "                 .groupby(\"Sales Rep ID\").head(2)[[\"Sales Rep ID\", \"Customer ID\", \"Customer Name\", \"Priority Score\"]]"
   ]
  },
  {
   "cell_type": "code",
   "execution_count": 22,
   "id": "81a293c1-3dbd-4e81-9742-9deddfec9e0b",
   "metadata": {},
   "outputs": [],
   "source": [
    "top_priority.to_csv(\"priority_df.csv\", index=False)"
   ]
  },
  {
   "cell_type": "code",
   "execution_count": null,
   "id": "a391593b-43a5-4871-ae34-d4651493eebe",
   "metadata": {},
   "outputs": [],
   "source": []
  }
 ],
 "metadata": {
  "kernelspec": {
   "display_name": "Python 3 (ipykernel)",
   "language": "python",
   "name": "python3"
  },
  "language_info": {
   "codemirror_mode": {
    "name": "ipython",
    "version": 3
   },
   "file_extension": ".py",
   "mimetype": "text/x-python",
   "name": "python",
   "nbconvert_exporter": "python",
   "pygments_lexer": "ipython3",
   "version": "3.12.9"
  }
 },
 "nbformat": 4,
 "nbformat_minor": 5
}
